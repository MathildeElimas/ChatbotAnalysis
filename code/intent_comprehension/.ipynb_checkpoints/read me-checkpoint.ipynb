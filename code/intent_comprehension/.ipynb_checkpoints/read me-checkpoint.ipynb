{
 "cells": [
  {
   "cell_type": "markdown",
   "metadata": {},
   "source": [
    "### Packages à installer\n",
    "\n",
    "- hashlib\n",
    "- scipy\n",
    "- scikit-learn\n",
    "- wordcloud\n",
    "- itertools\n",
    "- spacy\n",
    "- unicodedata\n",
    "- spacy_lefff (dans le fichier func_prepare/clean_func.py, mettre à jour le chemin vers les données de pos tagging, et java)\n",
    "- nltk\n",
    "- stop_words\n",
    "- time\n",
    "- keras\n",
    "- collections\n",
    "- pickle"
   ]
  },
  {
   "cell_type": "markdown",
   "metadata": {},
   "source": [
    "### Architecture\n",
    "\n",
    "Le lancement de la détection des intentions se fait à partir du notebook **main** divisé en 4 sections :\n",
    "- *1ère section* : définition des paramètres choisis pour la base de données et le vocabulaire\n",
    "- *2ème et 3ème sections* : affichage des données et du vocabulaire obtenus\n",
    "- *4ème section* : choix du/des modèles à appliquer\n",
    "\n",
    "Pour analyser plus en détail les résultats d'un modèle, on peut trouver dans le dossier **output_methods** les résultats stockés dans un dossier au nom de l'id des paramètres choisis (voir section 1 fichier main). Dans ce dossier on a : \n",
    "- la courbe utilisée pour choisir le nombre de topics\n",
    "- un pdf avec une wordmap représentant chaque topic obtenu par le modèle\n",
    "- le modèle enregistré\n",
    "\n",
    "Le fichier **analyse topics** permet d'avoir le pourcentage de messages concernant chaque topic ainsi que des varbatims pour mieux les expliquer."
   ]
  },
  {
   "cell_type": "markdown",
   "metadata": {},
   "source": [
    "### Paramètres\n",
    "\n",
    "Les paramètres qui peuvent être modifiés sont :\n",
    "- la base d'étude ('autres', 'bbox', 'continuer', 'facture', 'reseau')\n",
    "- la méthode de troncature des mots ('stem' pour stemming, 'lem' pour lemmatisation, None pour aucune (déconseillé))\n",
    "- un booléen précisant si on retire les stopwords ou non\n",
    "- la liste des stopwords à retirer (peut être vide) : un fichier .xls \"liste des stopwords à retirer\" reporte les mots qui n'apportent pas d'information selon la base concernée\n",
    "- une liste des mots à garder selon leur type ('ADJ' pour adjectifs, 'NOUN' pour les noms, 'VERB' pour les verbes)\n",
    "- la fréquence minimale et maximale d'appartition d'un mot dans l'ensemble des messages pour le vocabulaire (entre 0 et 100)\n",
    "- la mesure pour la création de la matrice d'entrée du modèle ('onehot', 'count', 'tfidf')"
   ]
  }
 ],
 "metadata": {
  "kernelspec": {
   "display_name": "Python 3",
   "language": "python",
   "name": "python3"
  },
  "language_info": {
   "codemirror_mode": {
    "name": "ipython",
    "version": 3
   },
   "file_extension": ".py",
   "mimetype": "text/x-python",
   "name": "python",
   "nbconvert_exporter": "python",
   "pygments_lexer": "ipython3",
   "version": "3.7.7"
  }
 },
 "nbformat": 4,
 "nbformat_minor": 4
}
