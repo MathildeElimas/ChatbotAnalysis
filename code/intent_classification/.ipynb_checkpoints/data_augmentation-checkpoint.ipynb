{
 "cells": [
  {
   "cell_type": "markdown",
   "metadata": {},
   "source": [
    "# Data augmentation"
   ]
  },
  {
   "cell_type": "code",
   "execution_count": 1,
   "metadata": {},
   "outputs": [],
   "source": [
    "import os\n",
    "import pandas as pd\n",
    "import nltk\n",
    "import numpy as np\n",
    "import re\n",
    "import collections\n",
    "import matplotlib.pyplot as plt\n",
    "import math\n",
    "import csv\n",
    "\n",
    "from sklearn.model_selection import train_test_split\n"
   ]
  },
  {
   "cell_type": "markdown",
   "metadata": {},
   "source": [
    "Cette partie est basée sur l'article: \n",
    "    - EDA: Easy Data Augmentation Techniques for Boosting Performance on Text Classification Tasks; \n",
    "    - Jason Wei et Kai Zou (2018)\n",
    "    - article :https://www.aclweb.org/anthology/D19-1670.pdf\n",
    "    - https://github.com/hardik-vala/FreNetic/tree/ea016e3fcf044460c89329c9e6828bba5a92b7d4"
   ]
  },
  {
   "cell_type": "code",
   "execution_count": 2,
   "metadata": {},
   "outputs": [],
   "source": [
    "directory = os.getcwd()\n",
    "\n",
    "df = pd.read_csv(directory+\"\\\\data\\\\intent_dialogues.csv\", sep=',')"
   ]
  },
  {
   "cell_type": "code",
   "execution_count": 3,
   "metadata": {},
   "outputs": [],
   "source": [
    "y = df.Intent.values\n",
    "train, test = train_test_split(df, test_size=0.2, stratify = y)\n",
    "\n",
    "summary = pd.DataFrame( {'before':train.groupby('Intent').Sentence.count()} )\n",
    "summary['before_pct'] = summary['before']/sum(summary['before'])*100\n"
   ]
  },
  {
   "cell_type": "code",
   "execution_count": 4,
   "metadata": {},
   "outputs": [],
   "source": [
    "list_class = set(train.Intent)\n",
    "ideal_percent = round( 100/len(list_class) )\n",
    "\n",
    "too_big = set( summary.index[summary.before_pct>ideal_percent ] )\n",
    "\n",
    "frames = []\n",
    "\n",
    "for idx in list_class:\n",
    "    \n",
    "    if idx in too_big:\n",
    "\n",
    "        without_duplicates = train[train.Intent==idx]\n",
    "        without_duplicates = without_duplicates.drop_duplicates(subset =\"Sentence\") \n",
    "        frames.append(without_duplicates)\n",
    "        \n",
    "    else:\n",
    "        \n",
    "        frames.append( train[train.Intent==idx] )\n",
    "\n",
    "new_train = pd.concat(frames)\n",
    "\n",
    "summary['after']= new_train.groupby('Intent').Sentence.count()\n",
    "summary['after_pct']=summary['after']/sum(summary['after'])*100"
   ]
  },
  {
   "cell_type": "code",
   "execution_count": 15,
   "metadata": {},
   "outputs": [
    {
     "data": {
      "text/html": [
       "<div>\n",
       "<style scoped>\n",
       "    .dataframe tbody tr th:only-of-type {\n",
       "        vertical-align: middle;\n",
       "    }\n",
       "\n",
       "    .dataframe tbody tr th {\n",
       "        vertical-align: top;\n",
       "    }\n",
       "\n",
       "    .dataframe thead th {\n",
       "        text-align: right;\n",
       "    }\n",
       "</style>\n",
       "<table border=\"1\" class=\"dataframe\">\n",
       "  <thead>\n",
       "    <tr style=\"text-align: right;\">\n",
       "      <th></th>\n",
       "      <th>before</th>\n",
       "      <th>before_pct</th>\n",
       "      <th>after</th>\n",
       "      <th>after_pct</th>\n",
       "      <th>aug</th>\n",
       "      <th>aug_pct</th>\n",
       "    </tr>\n",
       "    <tr>\n",
       "      <th>Intent</th>\n",
       "      <th></th>\n",
       "      <th></th>\n",
       "      <th></th>\n",
       "      <th></th>\n",
       "      <th></th>\n",
       "      <th></th>\n",
       "    </tr>\n",
       "  </thead>\n",
       "  <tbody>\n",
       "    <tr>\n",
       "      <th>explication_facture</th>\n",
       "      <td>1145</td>\n",
       "      <td>42.095588</td>\n",
       "      <td>982</td>\n",
       "      <td>38.404380</td>\n",
       "      <td>600</td>\n",
       "      <td>34.482759</td>\n",
       "    </tr>\n",
       "    <tr>\n",
       "      <th>probleme_box_tv</th>\n",
       "      <td>740</td>\n",
       "      <td>27.205882</td>\n",
       "      <td>740</td>\n",
       "      <td>28.940164</td>\n",
       "      <td>545</td>\n",
       "      <td>31.321839</td>\n",
       "    </tr>\n",
       "    <tr>\n",
       "      <th>reseau_mobile</th>\n",
       "      <td>835</td>\n",
       "      <td>30.698529</td>\n",
       "      <td>835</td>\n",
       "      <td>32.655456</td>\n",
       "      <td>595</td>\n",
       "      <td>34.195402</td>\n",
       "    </tr>\n",
       "  </tbody>\n",
       "</table>\n",
       "</div>"
      ],
      "text/plain": [
       "                     before  before_pct  after  after_pct  aug    aug_pct\n",
       "Intent                                                                   \n",
       "explication_facture    1145   42.095588    982  38.404380  600  34.482759\n",
       "probleme_box_tv         740   27.205882    740  28.940164  545  31.321839\n",
       "reseau_mobile           835   30.698529    835  32.655456  595  34.195402"
      ]
     },
     "execution_count": 15,
     "metadata": {},
     "output_type": "execute_result"
    }
   ],
   "source": [
    "summary"
   ]
  },
  {
   "cell_type": "code",
   "execution_count": 6,
   "metadata": {},
   "outputs": [],
   "source": [
    "file = open(directory+\"\\\\data\\\\train_augmented.txt\",\"w\", encoding = 'utf-8') \n",
    "\n",
    "for idx, row in new_train.iterrows():\n",
    "    L=str(row.Intent)+'\\t'+str(row.Sentence)+'\\n'\n",
    "    file.write(L)\n",
    "\n",
    "file.close()\n",
    "\n",
    "rule = pd.DataFrame( {'Intent': list( summary.index ),'percent':  summary.after_pct } )\n",
    "rule['n_aug'] = [ round(ideal_percent/row.percent,2) for idx,row in rule.iterrows()] \n",
    "\n",
    "file = open(directory+\"\\\\data\\\\augmentation_coefs.txt\",\"w\") \n",
    "\n",
    "for idx, row in rule.iterrows():\n",
    "    L=str(row.Intent)+'\\t'+str(row.n_aug)+'\\n'\n",
    "    file.write(L)\n",
    "    \n",
    "file.close()"
   ]
  },
  {
   "cell_type": "code",
   "execution_count": 7,
   "metadata": {},
   "outputs": [],
   "source": [
    "coefs = open(directory+\"\\\\data\\\\augmentation_coefs.txt\",\"r\").readlines()\n",
    "dico_coefs={}\n",
    "for i, line in enumerate(coefs):\n",
    "    parts = line[:-1].split('\\t')\n",
    "    dico_coefs[ parts[0] ]= round( float( parts[1] ) )"
   ]
  },
  {
   "cell_type": "code",
   "execution_count": 8,
   "metadata": {},
   "outputs": [
    {
     "name": "stdout",
     "output_type": "stream",
     "text": [
      "generated augmented sentences with eda for data/train_augmented.txt to data/train_augmented_out.txt\n"
     ]
    }
   ],
   "source": [
    "! python %cd%\\eda_nlp\\code\\augment.py --input=data/train_augmented.txt --output=data/train_augmented_out.txt --num_aug=16 --alpha=0.05"
   ]
  },
  {
   "cell_type": "code",
   "execution_count": 9,
   "metadata": {},
   "outputs": [],
   "source": [
    "# with open(directory+'\\\\data\\\\train_augmented.txt', 'r', encoding = 'utf-8') as in_file:\n",
    "#     stripped = (line.strip() for line in in_file)\n",
    "#     lines = (line.split(\"\\n\") for line in stripped if line)\n",
    "    \n",
    "#     with open(directory+'\\\\data\\\\train_augmented.csv', 'w', encoding = 'utf-8') as out_file:\n",
    "#         writer = csv.writer(out_file)\n",
    "#         writer.writerows(lines)"
   ]
  },
  {
   "cell_type": "code",
   "execution_count": 34,
   "metadata": {},
   "outputs": [
    {
     "name": "stdout",
     "output_type": "stream",
     "text": [
      "2720 2557 2556\n"
     ]
    },
    {
     "name": "stderr",
     "output_type": "stream",
     "text": [
      "b'Skipping line 950: expected 2 fields, saw 6\\n'\n"
     ]
    }
   ],
   "source": [
    "train_aug = pd.read_csv(directory+\"\\\\data\\\\train_augmented.txt\", sep='\\t',header=None, error_bad_lines=False)\n",
    "train_aug.columns = ['Intent', 'Sentence']\n",
    "summary['aug'] = pd.DataFrame( train_aug.groupby('Intent').Sentence.count())\n",
    "summary['aug_pct']=summary['aug']/sum(summary['aug'])*100\n",
    "\n",
    "summary.head(28)\n",
    "\n",
    "print( sum(summary.before),sum(summary.after),sum(summary.aug) )\n",
    "\n"
   ]
  },
  {
   "cell_type": "code",
   "execution_count": 35,
   "metadata": {},
   "outputs": [
    {
     "data": {
      "text/html": [
       "<div>\n",
       "<style scoped>\n",
       "    .dataframe tbody tr th:only-of-type {\n",
       "        vertical-align: middle;\n",
       "    }\n",
       "\n",
       "    .dataframe tbody tr th {\n",
       "        vertical-align: top;\n",
       "    }\n",
       "\n",
       "    .dataframe thead th {\n",
       "        text-align: right;\n",
       "    }\n",
       "</style>\n",
       "<table border=\"1\" class=\"dataframe\">\n",
       "  <thead>\n",
       "    <tr style=\"text-align: right;\">\n",
       "      <th></th>\n",
       "      <th>Intent</th>\n",
       "      <th>Sentence</th>\n",
       "    </tr>\n",
       "  </thead>\n",
       "  <tbody>\n",
       "    <tr>\n",
       "      <th>0</th>\n",
       "      <td>probleme_box_tv</td>\n",
       "      <td>Bonjour</td>\n",
       "    </tr>\n",
       "    <tr>\n",
       "      <th>1</th>\n",
       "      <td>probleme_box_tv</td>\n",
       "      <td>Ma télécommande ne fonctionne plus</td>\n",
       "    </tr>\n",
       "    <tr>\n",
       "      <th>2</th>\n",
       "      <td>probleme_box_tv</td>\n",
       "      <td>Ma connexion internet ne fonctionne plus ,le v...</td>\n",
       "    </tr>\n",
       "    <tr>\n",
       "      <th>3</th>\n",
       "      <td>probleme_box_tv</td>\n",
       "      <td>Je voudrais savoir comment rebranché mon décod...</td>\n",
       "    </tr>\n",
       "    <tr>\n",
       "      <th>4</th>\n",
       "      <td>probleme_box_tv</td>\n",
       "      <td>Perte de réseau</td>\n",
       "    </tr>\n",
       "    <tr>\n",
       "      <th>...</th>\n",
       "      <td>...</td>\n",
       "      <td>...</td>\n",
       "    </tr>\n",
       "    <tr>\n",
       "      <th>2551</th>\n",
       "      <td>reseau_mobile</td>\n",
       "      <td>Bonjour je suis en vacances au portugal je sou...</td>\n",
       "    </tr>\n",
       "    <tr>\n",
       "      <th>2552</th>\n",
       "      <td>reseau_mobile</td>\n",
       "      <td>Bonjour , je vous contacte car j’ai un problèm...</td>\n",
       "    </tr>\n",
       "    <tr>\n",
       "      <th>2553</th>\n",
       "      <td>reseau_mobile</td>\n",
       "      <td>Bonjour J’ai souscrit un abonnement engagement...</td>\n",
       "    </tr>\n",
       "    <tr>\n",
       "      <th>2554</th>\n",
       "      <td>reseau_mobile</td>\n",
       "      <td>He voudrais annuler le SIM</td>\n",
       "    </tr>\n",
       "    <tr>\n",
       "      <th>2555</th>\n",
       "      <td>reseau_mobile</td>\n",
       "      <td>Pourquoi ma facture est-elle passée de 9,99 à ...</td>\n",
       "    </tr>\n",
       "  </tbody>\n",
       "</table>\n",
       "<p>2556 rows × 2 columns</p>\n",
       "</div>"
      ],
      "text/plain": [
       "               Intent                                           Sentence\n",
       "0     probleme_box_tv                                            Bonjour\n",
       "1     probleme_box_tv                 Ma télécommande ne fonctionne plus\n",
       "2     probleme_box_tv  Ma connexion internet ne fonctionne plus ,le v...\n",
       "3     probleme_box_tv  Je voudrais savoir comment rebranché mon décod...\n",
       "4     probleme_box_tv                                    Perte de réseau\n",
       "...               ...                                                ...\n",
       "2551    reseau_mobile  Bonjour je suis en vacances au portugal je sou...\n",
       "2552    reseau_mobile  Bonjour , je vous contacte car j’ai un problèm...\n",
       "2553    reseau_mobile  Bonjour J’ai souscrit un abonnement engagement...\n",
       "2554    reseau_mobile                         He voudrais annuler le SIM\n",
       "2555    reseau_mobile  Pourquoi ma facture est-elle passée de 9,99 à ...\n",
       "\n",
       "[2556 rows x 2 columns]"
      ]
     },
     "execution_count": 35,
     "metadata": {},
     "output_type": "execute_result"
    }
   ],
   "source": [
    "train_aug"
   ]
  },
  {
   "cell_type": "code",
   "execution_count": 36,
   "metadata": {},
   "outputs": [],
   "source": [
    "train_aug.to_csv(directory+\"\\\\data\\\\train_augmented.csv\", index=False)"
   ]
  },
  {
   "cell_type": "code",
   "execution_count": 37,
   "metadata": {},
   "outputs": [
    {
     "name": "stderr",
     "output_type": "stream",
     "text": [
      "C:\\Users\\MathildeElimas\\anaconda3\\envs\\tf\\lib\\site-packages\\ipykernel_launcher.py:5: SettingWithCopyWarning: \n",
      "A value is trying to be set on a copy of a slice from a DataFrame.\n",
      "Try using .loc[row_indexer,col_indexer] = value instead\n",
      "\n",
      "See the caveats in the documentation: http://pandas.pydata.org/pandas-docs/stable/user_guide/indexing.html#returning-a-view-versus-a-copy\n",
      "  \"\"\"\n",
      "C:\\Users\\MathildeElimas\\anaconda3\\envs\\tf\\lib\\site-packages\\ipykernel_launcher.py:7: FutureWarning: Sorting because non-concatenation axis is not aligned. A future version\n",
      "of pandas will change to not sort by default.\n",
      "\n",
      "To accept the future behavior, pass 'sort=False'.\n",
      "\n",
      "To retain the current behavior and silence the warning, pass 'sort=True'.\n",
      "\n",
      "  import sys\n"
     ]
    }
   ],
   "source": [
    "train_aug = pd.read_csv(directory+\"\\\\data\\\\train_augmented.csv\")\n",
    "\n",
    "train_aug.columns = ['Intent', 'Sentence']\n",
    "train_aug['is_test']=False\n",
    "test['is_test']=True\n",
    "\n",
    "df_aug = pd.concat([train_aug, test])\n",
    "df_aug.to_csv(directory+\"\\\\data\\\\commentaires_augmented.csv\", index = None, header=True, sep=',')"
   ]
  },
  {
   "cell_type": "code",
   "execution_count": 40,
   "metadata": {},
   "outputs": [
    {
     "data": {
      "text/html": [
       "<div>\n",
       "<style scoped>\n",
       "    .dataframe tbody tr th:only-of-type {\n",
       "        vertical-align: middle;\n",
       "    }\n",
       "\n",
       "    .dataframe tbody tr th {\n",
       "        vertical-align: top;\n",
       "    }\n",
       "\n",
       "    .dataframe thead th {\n",
       "        text-align: right;\n",
       "    }\n",
       "</style>\n",
       "<table border=\"1\" class=\"dataframe\">\n",
       "  <thead>\n",
       "    <tr style=\"text-align: right;\">\n",
       "      <th></th>\n",
       "      <th>Intent</th>\n",
       "      <th>Sentence</th>\n",
       "      <th>is_test</th>\n",
       "    </tr>\n",
       "  </thead>\n",
       "  <tbody>\n",
       "    <tr>\n",
       "      <th>0</th>\n",
       "      <td>probleme_box_tv</td>\n",
       "      <td>Bonjour</td>\n",
       "      <td>False</td>\n",
       "    </tr>\n",
       "    <tr>\n",
       "      <th>1</th>\n",
       "      <td>probleme_box_tv</td>\n",
       "      <td>Ma télécommande ne fonctionne plus</td>\n",
       "      <td>False</td>\n",
       "    </tr>\n",
       "    <tr>\n",
       "      <th>2</th>\n",
       "      <td>probleme_box_tv</td>\n",
       "      <td>Ma connexion internet ne fonctionne plus ,le v...</td>\n",
       "      <td>False</td>\n",
       "    </tr>\n",
       "    <tr>\n",
       "      <th>3</th>\n",
       "      <td>probleme_box_tv</td>\n",
       "      <td>Je voudrais savoir comment rebranché mon décod...</td>\n",
       "      <td>False</td>\n",
       "    </tr>\n",
       "    <tr>\n",
       "      <th>4</th>\n",
       "      <td>probleme_box_tv</td>\n",
       "      <td>Perte de réseau</td>\n",
       "      <td>False</td>\n",
       "    </tr>\n",
       "    <tr>\n",
       "      <th>...</th>\n",
       "      <td>...</td>\n",
       "      <td>...</td>\n",
       "      <td>...</td>\n",
       "    </tr>\n",
       "    <tr>\n",
       "      <th>796</th>\n",
       "      <td>probleme_box_tv</td>\n",
       "      <td>Je souhaite être appelé</td>\n",
       "      <td>True</td>\n",
       "    </tr>\n",
       "    <tr>\n",
       "      <th>2305</th>\n",
       "      <td>explication_facture</td>\n",
       "      <td>Explication facture</td>\n",
       "      <td>True</td>\n",
       "    </tr>\n",
       "    <tr>\n",
       "      <th>1969</th>\n",
       "      <td>explication_facture</td>\n",
       "      <td>Bonjour apellez moi au 0619884124 urgent au su...</td>\n",
       "      <td>True</td>\n",
       "    </tr>\n",
       "    <tr>\n",
       "      <th>32</th>\n",
       "      <td>probleme_box_tv</td>\n",
       "      <td>Bonjour Impossible de changer le mot de passe ...</td>\n",
       "      <td>True</td>\n",
       "    </tr>\n",
       "    <tr>\n",
       "      <th>1907</th>\n",
       "      <td>explication_facture</td>\n",
       "      <td>Je veux appler un consseiller</td>\n",
       "      <td>True</td>\n",
       "    </tr>\n",
       "  </tbody>\n",
       "</table>\n",
       "<p>3236 rows × 3 columns</p>\n",
       "</div>"
      ],
      "text/plain": [
       "                   Intent                                           Sentence  \\\n",
       "0         probleme_box_tv                                            Bonjour   \n",
       "1         probleme_box_tv                 Ma télécommande ne fonctionne plus   \n",
       "2         probleme_box_tv  Ma connexion internet ne fonctionne plus ,le v...   \n",
       "3         probleme_box_tv  Je voudrais savoir comment rebranché mon décod...   \n",
       "4         probleme_box_tv                                    Perte de réseau   \n",
       "...                   ...                                                ...   \n",
       "796       probleme_box_tv                            Je souhaite être appelé   \n",
       "2305  explication_facture                                Explication facture   \n",
       "1969  explication_facture  Bonjour apellez moi au 0619884124 urgent au su...   \n",
       "32        probleme_box_tv  Bonjour Impossible de changer le mot de passe ...   \n",
       "1907  explication_facture                      Je veux appler un consseiller   \n",
       "\n",
       "      is_test  \n",
       "0       False  \n",
       "1       False  \n",
       "2       False  \n",
       "3       False  \n",
       "4       False  \n",
       "...       ...  \n",
       "796      True  \n",
       "2305     True  \n",
       "1969     True  \n",
       "32       True  \n",
       "1907     True  \n",
       "\n",
       "[3236 rows x 3 columns]"
      ]
     },
     "execution_count": 40,
     "metadata": {},
     "output_type": "execute_result"
    }
   ],
   "source": [
    "df_aug"
   ]
  },
  {
   "cell_type": "markdown",
   "metadata": {},
   "source": [
    "# Figures"
   ]
  },
  {
   "cell_type": "code",
   "execution_count": 41,
   "metadata": {},
   "outputs": [
    {
     "data": {
      "image/png": "[encoded data removed]",
      "text/plain": [
       "<Figure size 1080x360 with 1 Axes>"
      ]
     },
     "metadata": {
      "needs_background": "light"
     },
     "output_type": "display_data"
    },
    {
     "data": {
      "image/png": "[encoded data removed]",
      "text/plain": [
       "<Figure size 1080x360 with 1 Axes>"
      ]
     },
     "metadata": {
      "needs_background": "light"
     },
     "output_type": "display_data"
    }
   ],
   "source": [
    "fig = plt.figure(figsize=(15,5))\n",
    "train.groupby('Intent').Sentence.count().plot.bar(ylim=0)\n",
    "plt.ylim((0,4000))\n",
    "#plt.title('Distribution de la variable Intent, base d\\'entrainement, avant augmentation EDA')\n",
    "plt.ylabel('nombre d\\'observations')\n",
    "plt.show()\n",
    "fig.savefig(directory+'\\\\figures\\\\distribution_avant_EDA.png')\n",
    "\n",
    "fig = plt.figure(figsize=(15,5))\n",
    "train_aug.groupby('Intent').Sentence.count().plot.bar(ylim=0)\n",
    "plt.ylim((0,4000))\n",
    "#plt.title('Distribution de la variable Intent, base d\\'entrainement, après augmentation EDA')\n",
    "plt.ylabel('nombre d\\'observations')\n",
    "plt.show()\n",
    "fig.savefig(directory+'\\\\figures\\\\distribution_apres_EDA.png')\n"
   ]
  }
 ],
 "metadata": {
  "kernelspec": {
   "display_name": "Python 3",
   "language": "python",
   "name": "python3"
  },
  "language_info": {
   "codemirror_mode": {
    "name": "ipython",
    "version": 3
   },
   "file_extension": ".py",
   "mimetype": "text/x-python",
   "name": "python",
   "nbconvert_exporter": "python",
   "pygments_lexer": "ipython3",
   "version": "3.7.7"
  }
 },
 "nbformat": 4,
 "nbformat_minor": 2
}
