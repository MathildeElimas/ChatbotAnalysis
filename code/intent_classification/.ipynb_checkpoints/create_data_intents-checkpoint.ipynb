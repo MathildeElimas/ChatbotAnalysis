{
 "cells": [
  {
   "cell_type": "code",
   "execution_count": 1,
   "metadata": {},
   "outputs": [],
   "source": [
    "import pandas as pd\n",
    "import os\n",
    "import numpy as np"
   ]
  },
  {
   "cell_type": "code",
   "execution_count": 2,
   "metadata": {},
   "outputs": [],
   "source": [
    "PATH = os.getcwd() + '\\\\data'"
   ]
  },
  {
   "cell_type": "code",
   "execution_count": 3,
   "metadata": {},
   "outputs": [],
   "source": [
    "dialogues = pd.read_csv(PATH + '\\\\dialogues.csv')"
   ]
  },
  {
   "cell_type": "code",
   "execution_count": 4,
   "metadata": {},
   "outputs": [
    {
     "data": {
      "text/html": [
       "<div>\n",
       "<style scoped>\n",
       "    .dataframe tbody tr th:only-of-type {\n",
       "        vertical-align: middle;\n",
       "    }\n",
       "\n",
       "    .dataframe tbody tr th {\n",
       "        vertical-align: top;\n",
       "    }\n",
       "\n",
       "    .dataframe thead th {\n",
       "        text-align: right;\n",
       "    }\n",
       "</style>\n",
       "<table border=\"1\" class=\"dataframe\">\n",
       "  <thead>\n",
       "    <tr style=\"text-align: right;\">\n",
       "      <th></th>\n",
       "      <th>Unnamed: 0</th>\n",
       "      <th>CreatedBy.Profile.Name</th>\n",
       "      <th>CommentBody</th>\n",
       "      <th>ParentId</th>\n",
       "      <th>CreatedDate</th>\n",
       "      <th>content.buttons</th>\n",
       "    </tr>\n",
       "  </thead>\n",
       "  <tbody>\n",
       "    <tr>\n",
       "      <th>0</th>\n",
       "      <td>0</td>\n",
       "      <td>Bytel Customer Community User</td>\n",
       "      <td>Bonjour j'ai rendu mon équipement box est je n...</td>\n",
       "      <td>5001p00003imjqKAAQ</td>\n",
       "      <td>2020-08-03T16:18:00.000Z</td>\n",
       "      <td>NaN</td>\n",
       "    </tr>\n",
       "    <tr>\n",
       "      <th>1</th>\n",
       "      <td>1</td>\n",
       "      <td>Utilisateur Technique</td>\n",
       "      <td>Bonjour Je suis l’Assistant Virtuel de Bouygue...</td>\n",
       "      <td>5001p00003imjqKAAQ</td>\n",
       "      <td>2020-08-03T16:18:05.000Z</td>\n",
       "      <td>NaN</td>\n",
       "    </tr>\n",
       "    <tr>\n",
       "      <th>2</th>\n",
       "      <td>2</td>\n",
       "      <td>Utilisateur Technique</td>\n",
       "      <td>Voici des liens utiles qui peuvent vous orient...</td>\n",
       "      <td>5001p00003imjqKAAQ</td>\n",
       "      <td>2020-08-03T16:18:06.000Z</td>\n",
       "      <td>[{'value': 'Problème Box/Tv', 'title': 'Problè...</td>\n",
       "    </tr>\n",
       "    <tr>\n",
       "      <th>3</th>\n",
       "      <td>3</td>\n",
       "      <td>Bytel Customer Community User</td>\n",
       "      <td>Problème Box/Tv</td>\n",
       "      <td>5001p00003imjqKAAQ</td>\n",
       "      <td>2020-08-03T16:18:10.000Z</td>\n",
       "      <td>NaN</td>\n",
       "    </tr>\n",
       "    <tr>\n",
       "      <th>4</th>\n",
       "      <td>4</td>\n",
       "      <td>Utilisateur Technique</td>\n",
       "      <td>Très bien, quelle est la ligne concernée par v...</td>\n",
       "      <td>5001p00003imjqKAAQ</td>\n",
       "      <td>2020-08-03T16:18:12.000Z</td>\n",
       "      <td>NaN</td>\n",
       "    </tr>\n",
       "  </tbody>\n",
       "</table>\n",
       "</div>"
      ],
      "text/plain": [
       "   Unnamed: 0         CreatedBy.Profile.Name  \\\n",
       "0           0  Bytel Customer Community User   \n",
       "1           1          Utilisateur Technique   \n",
       "2           2          Utilisateur Technique   \n",
       "3           3  Bytel Customer Community User   \n",
       "4           4          Utilisateur Technique   \n",
       "\n",
       "                                         CommentBody            ParentId  \\\n",
       "0  Bonjour j'ai rendu mon équipement box est je n...  5001p00003imjqKAAQ   \n",
       "1  Bonjour Je suis l’Assistant Virtuel de Bouygue...  5001p00003imjqKAAQ   \n",
       "2  Voici des liens utiles qui peuvent vous orient...  5001p00003imjqKAAQ   \n",
       "3                                    Problème Box/Tv  5001p00003imjqKAAQ   \n",
       "4  Très bien, quelle est la ligne concernée par v...  5001p00003imjqKAAQ   \n",
       "\n",
       "                CreatedDate                                    content.buttons  \n",
       "0  2020-08-03T16:18:00.000Z                                                NaN  \n",
       "1  2020-08-03T16:18:05.000Z                                                NaN  \n",
       "2  2020-08-03T16:18:06.000Z  [{'value': 'Problème Box/Tv', 'title': 'Problè...  \n",
       "3  2020-08-03T16:18:10.000Z                                                NaN  \n",
       "4  2020-08-03T16:18:12.000Z                                                NaN  "
      ]
     },
     "execution_count": 4,
     "metadata": {},
     "output_type": "execute_result"
    }
   ],
   "source": [
    "dialogues.head()"
   ]
  },
  {
   "cell_type": "code",
   "execution_count": 5,
   "metadata": {},
   "outputs": [
    {
     "name": "stderr",
     "output_type": "stream",
     "text": [
      "C:\\Users\\MathildeElimas\\anaconda3\\envs\\tf\\lib\\site-packages\\ipykernel_launcher.py:15: SettingWithCopyWarning: \n",
      "A value is trying to be set on a copy of a slice from a DataFrame.\n",
      "Try using .loc[row_indexer,col_indexer] = value instead\n",
      "\n",
      "See the caveats in the documentation: http://pandas.pydata.org/pandas-docs/stable/user_guide/indexing.html#returning-a-view-versus-a-copy\n",
      "  from ipykernel import kernelapp as app\n"
     ]
    }
   ],
   "source": [
    "def create_intent_datasets(category):\n",
    "    ids = list(dialogues[dialogues['CommentBody'] == category].ParentId.unique())\n",
    "    return ids, dialogues[dialogues.ParentId.isin(ids)]\n",
    "\n",
    "\n",
    "bbox_ids, bbox_dialogues = create_intent_datasets('Problème Box/Tv')\n",
    "facture_ids, facture_dialogues = create_intent_datasets('Explication facture')\n",
    "reseau_ids, reseau_dialogues = create_intent_datasets('Réseau mobile')\n",
    "continuer_ids, continuer_dialogues = create_intent_datasets('Continuer')\n",
    "\n",
    "autres = dialogues[~dialogues.ParentId.isin(bbox_ids + facture_ids + reseau_ids + continuer_ids)]\n",
    "\n",
    "def process_dataset(data, name):\n",
    "    data = data.groupby('ParentId').head(1)\n",
    "    data['name'] = name\n",
    "    data = data[['CommentBody', 'name']]\n",
    "    return data\n",
    "\n",
    "\n",
    "bbox_dialogues = process_dataset(bbox_dialogues,'probleme_box_tv')\n",
    "facture_dialogues = process_dataset(facture_dialogues,'explication_facture')\n",
    "reseau_dialogues = process_dataset(reseau_dialogues,'reseau_mobile') \n",
    "continuer_dialogues = process_dataset(continuer_dialogues,'continuer') \n",
    "autres = process_dataset(autres,'autre') "
   ]
  },
  {
   "cell_type": "code",
   "execution_count": 6,
   "metadata": {},
   "outputs": [],
   "source": [
    "frames = [bbox_dialogues, facture_dialogues, reseau_dialogues] #, continuer_dialogues, autres\n",
    "intents_data = pd.concat(frames)"
   ]
  },
  {
   "cell_type": "code",
   "execution_count": 7,
   "metadata": {},
   "outputs": [],
   "source": [
    "intents_data.columns = [\"Sentence\", \"Intent\"]"
   ]
  },
  {
   "cell_type": "code",
   "execution_count": 8,
   "metadata": {},
   "outputs": [
    {
     "data": {
      "text/html": [
       "<div>\n",
       "<style scoped>\n",
       "    .dataframe tbody tr th:only-of-type {\n",
       "        vertical-align: middle;\n",
       "    }\n",
       "\n",
       "    .dataframe tbody tr th {\n",
       "        vertical-align: top;\n",
       "    }\n",
       "\n",
       "    .dataframe thead th {\n",
       "        text-align: right;\n",
       "    }\n",
       "</style>\n",
       "<table border=\"1\" class=\"dataframe\">\n",
       "  <thead>\n",
       "    <tr style=\"text-align: right;\">\n",
       "      <th></th>\n",
       "      <th>Sentence</th>\n",
       "      <th>Intent</th>\n",
       "    </tr>\n",
       "  </thead>\n",
       "  <tbody>\n",
       "    <tr>\n",
       "      <th>0</th>\n",
       "      <td>Bonjour j'ai rendu mon équipement box est je n...</td>\n",
       "      <td>probleme_box_tv</td>\n",
       "    </tr>\n",
       "    <tr>\n",
       "      <th>49</th>\n",
       "      <td>Bonjour</td>\n",
       "      <td>probleme_box_tv</td>\n",
       "    </tr>\n",
       "    <tr>\n",
       "      <th>137</th>\n",
       "      <td>Box internet en panne</td>\n",
       "      <td>probleme_box_tv</td>\n",
       "    </tr>\n",
       "    <tr>\n",
       "      <th>501</th>\n",
       "      <td>Plus de phone ni internet depuis plus ou moins...</td>\n",
       "      <td>probleme_box_tv</td>\n",
       "    </tr>\n",
       "    <tr>\n",
       "      <th>549</th>\n",
       "      <td>Bonjour j'ai la télécommande de ma box qui ne ...</td>\n",
       "      <td>probleme_box_tv</td>\n",
       "    </tr>\n",
       "    <tr>\n",
       "      <th>...</th>\n",
       "      <td>...</td>\n",
       "      <td>...</td>\n",
       "    </tr>\n",
       "    <tr>\n",
       "      <th>177580</th>\n",
       "      <td>Bonjour internet ne fonctionne pas en journée</td>\n",
       "      <td>reseau_mobile</td>\n",
       "    </tr>\n",
       "    <tr>\n",
       "      <th>177873</th>\n",
       "      <td>pas de connexion internet sur smartphone</td>\n",
       "      <td>reseau_mobile</td>\n",
       "    </tr>\n",
       "    <tr>\n",
       "      <th>177976</th>\n",
       "      <td>BONJOUR . JE VOUS. CONFIRME AVOIR VALIDÉ ET PA...</td>\n",
       "      <td>reseau_mobile</td>\n",
       "    </tr>\n",
       "    <tr>\n",
       "      <th>178023</th>\n",
       "      <td>Ma ligne 0632441649 a été activée hier mais le...</td>\n",
       "      <td>reseau_mobile</td>\n",
       "    </tr>\n",
       "    <tr>\n",
       "      <th>178063</th>\n",
       "      <td>Bonjour je n ai toujours pas le remboursement ...</td>\n",
       "      <td>reseau_mobile</td>\n",
       "    </tr>\n",
       "  </tbody>\n",
       "</table>\n",
       "<p>3400 rows × 2 columns</p>\n",
       "</div>"
      ],
      "text/plain": [
       "                                                 Sentence           Intent\n",
       "0       Bonjour j'ai rendu mon équipement box est je n...  probleme_box_tv\n",
       "49                                                Bonjour  probleme_box_tv\n",
       "137                                 Box internet en panne  probleme_box_tv\n",
       "501     Plus de phone ni internet depuis plus ou moins...  probleme_box_tv\n",
       "549     Bonjour j'ai la télécommande de ma box qui ne ...  probleme_box_tv\n",
       "...                                                   ...              ...\n",
       "177580      Bonjour internet ne fonctionne pas en journée    reseau_mobile\n",
       "177873           pas de connexion internet sur smartphone    reseau_mobile\n",
       "177976  BONJOUR . JE VOUS. CONFIRME AVOIR VALIDÉ ET PA...    reseau_mobile\n",
       "178023  Ma ligne 0632441649 a été activée hier mais le...    reseau_mobile\n",
       "178063  Bonjour je n ai toujours pas le remboursement ...    reseau_mobile\n",
       "\n",
       "[3400 rows x 2 columns]"
      ]
     },
     "execution_count": 8,
     "metadata": {},
     "output_type": "execute_result"
    }
   ],
   "source": [
    "intents_data"
   ]
  },
  {
   "cell_type": "code",
   "execution_count": 10,
   "metadata": {},
   "outputs": [],
   "source": [
    "# intents_data.to_csv(PATH + '\\\\intent_dialogues.csv', index = False)"
   ]
  }
 ],
 "metadata": {
  "kernelspec": {
   "display_name": "Python 3",
   "language": "python",
   "name": "python3"
  },
  "language_info": {
   "codemirror_mode": {
    "name": "ipython",
    "version": 3
   },
   "file_extension": ".py",
   "mimetype": "text/x-python",
   "name": "python",
   "nbconvert_exporter": "python",
   "pygments_lexer": "ipython3",
   "version": "3.7.7"
  }
 },
 "nbformat": 4,
 "nbformat_minor": 4
}
