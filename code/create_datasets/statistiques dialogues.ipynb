{
 "cells": [
  {
   "cell_type": "code",
   "execution_count": 1,
   "metadata": {},
   "outputs": [],
   "source": [
    "import os\n",
    "\n",
    "import pandas as pd\n",
    "import numpy as np\n",
    "import matplotlib.pyplot as plt"
   ]
  },
  {
   "cell_type": "code",
   "execution_count": 2,
   "metadata": {},
   "outputs": [],
   "source": [
    "PATH = os.getcwd().replace('code\\\\create_datasets', 'Bot_Data\\\\')"
   ]
  },
  {
   "cell_type": "code",
   "execution_count": 3,
   "metadata": {},
   "outputs": [],
   "source": [
    "dialogues = pd.read_csv(PATH + 'dialogues.csv', sep = ',')"
   ]
  },
  {
   "cell_type": "code",
   "execution_count": 4,
   "metadata": {
    "scrolled": true
   },
   "outputs": [
    {
     "data": {
      "text/html": [
       "<div>\n",
       "<style scoped>\n",
       "    .dataframe tbody tr th:only-of-type {\n",
       "        vertical-align: middle;\n",
       "    }\n",
       "\n",
       "    .dataframe tbody tr th {\n",
       "        vertical-align: top;\n",
       "    }\n",
       "\n",
       "    .dataframe thead th {\n",
       "        text-align: right;\n",
       "    }\n",
       "</style>\n",
       "<table border=\"1\" class=\"dataframe\">\n",
       "  <thead>\n",
       "    <tr style=\"text-align: right;\">\n",
       "      <th></th>\n",
       "      <th>Unnamed: 0</th>\n",
       "      <th>CreatedBy.Profile.Name</th>\n",
       "      <th>CommentBody</th>\n",
       "      <th>ParentId</th>\n",
       "      <th>CreatedDate</th>\n",
       "      <th>content.buttons</th>\n",
       "    </tr>\n",
       "  </thead>\n",
       "  <tbody>\n",
       "    <tr>\n",
       "      <th>0</th>\n",
       "      <td>0</td>\n",
       "      <td>Bytel Customer Community User</td>\n",
       "      <td>Bonjour j'ai rendu mon équipement box est je n...</td>\n",
       "      <td>5001p00003imjqKAAQ</td>\n",
       "      <td>2020-08-03T16:18:00.000Z</td>\n",
       "      <td>NaN</td>\n",
       "    </tr>\n",
       "    <tr>\n",
       "      <th>1</th>\n",
       "      <td>1</td>\n",
       "      <td>Utilisateur Technique</td>\n",
       "      <td>Bonjour Je suis l’Assistant Virtuel de Bouygue...</td>\n",
       "      <td>5001p00003imjqKAAQ</td>\n",
       "      <td>2020-08-03T16:18:05.000Z</td>\n",
       "      <td>NaN</td>\n",
       "    </tr>\n",
       "    <tr>\n",
       "      <th>2</th>\n",
       "      <td>2</td>\n",
       "      <td>Utilisateur Technique</td>\n",
       "      <td>Voici des liens utiles qui peuvent vous orient...</td>\n",
       "      <td>5001p00003imjqKAAQ</td>\n",
       "      <td>2020-08-03T16:18:06.000Z</td>\n",
       "      <td>[{'value': 'Problème Box/Tv', 'title': 'Problè...</td>\n",
       "    </tr>\n",
       "    <tr>\n",
       "      <th>3</th>\n",
       "      <td>3</td>\n",
       "      <td>Bytel Customer Community User</td>\n",
       "      <td>Problème Box/Tv</td>\n",
       "      <td>5001p00003imjqKAAQ</td>\n",
       "      <td>2020-08-03T16:18:10.000Z</td>\n",
       "      <td>NaN</td>\n",
       "    </tr>\n",
       "    <tr>\n",
       "      <th>4</th>\n",
       "      <td>4</td>\n",
       "      <td>Utilisateur Technique</td>\n",
       "      <td>Très bien, quelle est la ligne concernée par v...</td>\n",
       "      <td>5001p00003imjqKAAQ</td>\n",
       "      <td>2020-08-03T16:18:12.000Z</td>\n",
       "      <td>NaN</td>\n",
       "    </tr>\n",
       "  </tbody>\n",
       "</table>\n",
       "</div>"
      ],
      "text/plain": [
       "   Unnamed: 0         CreatedBy.Profile.Name  \\\n",
       "0           0  Bytel Customer Community User   \n",
       "1           1          Utilisateur Technique   \n",
       "2           2          Utilisateur Technique   \n",
       "3           3  Bytel Customer Community User   \n",
       "4           4          Utilisateur Technique   \n",
       "\n",
       "                                         CommentBody            ParentId  \\\n",
       "0  Bonjour j'ai rendu mon équipement box est je n...  5001p00003imjqKAAQ   \n",
       "1  Bonjour Je suis l’Assistant Virtuel de Bouygue...  5001p00003imjqKAAQ   \n",
       "2  Voici des liens utiles qui peuvent vous orient...  5001p00003imjqKAAQ   \n",
       "3                                    Problème Box/Tv  5001p00003imjqKAAQ   \n",
       "4  Très bien, quelle est la ligne concernée par v...  5001p00003imjqKAAQ   \n",
       "\n",
       "                CreatedDate                                    content.buttons  \n",
       "0  2020-08-03T16:18:00.000Z                                                NaN  \n",
       "1  2020-08-03T16:18:05.000Z                                                NaN  \n",
       "2  2020-08-03T16:18:06.000Z  [{'value': 'Problème Box/Tv', 'title': 'Problè...  \n",
       "3  2020-08-03T16:18:10.000Z                                                NaN  \n",
       "4  2020-08-03T16:18:12.000Z                                                NaN  "
      ]
     },
     "execution_count": 4,
     "metadata": {},
     "output_type": "execute_result"
    }
   ],
   "source": [
    "dialogues.head()"
   ]
  },
  {
   "cell_type": "code",
   "execution_count": 5,
   "metadata": {},
   "outputs": [
    {
     "name": "stdout",
     "output_type": "stream",
     "text": [
      "nombre de conversations : 9541\n",
      "moyenne : 18.090975788701392\n",
      "écart-type : 13.418825632512354\n"
     ]
    }
   ],
   "source": [
    "# Nombre d'échange par conversation\n",
    "nb_echanges = list(dialogues.groupby('ParentId').CommentBody.count())\n",
    "print( \"nombre de conversations : %s\" % (len(nb_echanges)))\n",
    "print( \"moyenne : %s\" % (np.mean(nb_echanges)))\n",
    "print( \"écart-type : %s\" % (np.std(nb_echanges)))"
   ]
  },
  {
   "cell_type": "code",
   "execution_count": 6,
   "metadata": {},
   "outputs": [
    {
     "data": {
      "text/plain": [
       "count    9541.000000\n",
       "mean       18.090976\n",
       "std        13.419529\n",
       "min         1.000000\n",
       "25%         9.000000\n",
       "50%        16.000000\n",
       "75%        24.000000\n",
       "max       148.000000\n",
       "dtype: float64"
      ]
     },
     "execution_count": 6,
     "metadata": {},
     "output_type": "execute_result"
    }
   ],
   "source": [
    "pd.Series(nb_echanges).describe()"
   ]
  },
  {
   "cell_type": "code",
   "execution_count": 7,
   "metadata": {},
   "outputs": [
    {
     "name": "stdout",
     "output_type": "stream",
     "text": [
      "nombre de conversations avec moins d'1 échanges: 250\n"
     ]
    }
   ],
   "source": [
    "# regarder les conversations qui ont moins de 4 échanges\n",
    "abandons = dialogues.groupby('ParentId').filter(lambda x : x['CommentBody'].count() < 2)\n",
    "print( \"nombre de conversations avec moins d'1 échanges: %s\" % (len(list(abandons.ParentId.unique()))))"
   ]
  },
  {
   "cell_type": "code",
   "execution_count": 8,
   "metadata": {},
   "outputs": [],
   "source": [
    "longDialogues = dialogues[~dialogues.ParentId.isin(list(abandons.ParentId.unique()))]"
   ]
  },
  {
   "cell_type": "code",
   "execution_count": 9,
   "metadata": {},
   "outputs": [
    {
     "data": {
      "text/plain": [
       "9291"
      ]
     },
     "execution_count": 9,
     "metadata": {},
     "output_type": "execute_result"
    }
   ],
   "source": [
    "len(longDialogues.ParentId.unique())"
   ]
  },
  {
   "cell_type": "markdown",
   "metadata": {},
   "source": [
    "Répartition des intentions : \n",
    "    - pbm de Box\n",
    "    - Réseau mobile\n",
    "    - Explication facture\n",
    "    - Continuer"
   ]
  },
  {
   "cell_type": "code",
   "execution_count": 10,
   "metadata": {},
   "outputs": [
    {
     "data": {
      "text/plain": [
       "1483"
      ]
     },
     "execution_count": 10,
     "metadata": {},
     "output_type": "execute_result"
    }
   ],
   "source": [
    "len(dialogues[dialogues['CommentBody'].astype('U').apply(lambda x: x.lower()) == 'explication facture'].ParentId.unique())"
   ]
  },
  {
   "cell_type": "code",
   "execution_count": 11,
   "metadata": {},
   "outputs": [],
   "source": [
    "def create_intent_datasets(category):\n",
    "    ids = list(dialogues[dialogues['CommentBody'] == category].ParentId.unique())\n",
    "    return ids, dialogues[dialogues.ParentId.isin(ids)]\n",
    "\n",
    "\n",
    "bbox_ids, bbox_dialogues = create_intent_datasets('Problème Box/Tv')\n",
    "facture_ids, facture_dialogues = create_intent_datasets('Explication facture')\n",
    "reseau_ids, reseau_dialogues = create_intent_datasets('Réseau mobile')\n",
    "continuer_ids, continuer_dialogues = create_intent_datasets('Continuer')\n",
    "\n",
    "autres = dialogues[~dialogues.ParentId.isin(bbox_ids + facture_ids + reseau_ids + continuer_ids)]\n",
    "\n",
    "bbox_dialogues.name = 'Problème Box/TV'\n",
    "facture_dialogues.name = 'Explication facture'\n",
    "reseau_dialogues.name = 'Réseau mobile'\n",
    "continuer_dialogues.name = 'Continuer'\n",
    "autres.name = 'Autres'"
   ]
  },
  {
   "cell_type": "code",
   "execution_count": 12,
   "metadata": {},
   "outputs": [
    {
     "data": {
      "image/png": "[encoded data removed]",
      "text/plain": [
       "<Figure size 432x288 with 1 Axes>"
      ]
     },
     "metadata": {
      "needs_background": "light"
     },
     "output_type": "display_data"
    }
   ],
   "source": [
    "nb_dialogues = lambda data : [data.name, len(data.ParentId.unique())]\n",
    "\n",
    "nb_dialogues_intent = dict(map(nb_dialogues, [bbox_dialogues, facture_dialogues, continuer_dialogues, reseau_dialogues, autres]))\n",
    "nb_dialogues_intent = dict(sorted(nb_dialogues_intent.items(), key=lambda kv: kv[1], reverse = True))\n",
    "\n",
    "plt.bar(nb_dialogues_intent.keys(), nb_dialogues_intent.values(), width = 0.5, color = '#C0C983')\n",
    "plt.title(\"Répartition du nombre de dialogues par intentions\")\n",
    "plt.xticks(rotation = 12)\n",
    "\n",
    "plt.savefig(PATH + 'repartition_intentions.png')"
   ]
  },
  {
   "cell_type": "code",
   "execution_count": 13,
   "metadata": {},
   "outputs": [],
   "source": [
    "# bbox_dialogues.to_csv(PATH + 'bbox.csv')\n",
    "# facture_dialogues.to_csv(PATH + 'facture.csv')\n",
    "# continuer_dialogues.to_csv(PATH + 'continuer.csv')\n",
    "# reseau_dialogues.to_csv(PATH + 'reseau.csv')\n",
    "# autres.to_csv(PATH + 'autres.csv')"
   ]
  },
  {
   "cell_type": "code",
   "execution_count": 14,
   "metadata": {},
   "outputs": [
    {
     "data": {
      "text/plain": [
       "[nan,\n",
       " 'Oui, j’ai terminé',\n",
       " \"Super ! Nous aurions besoin de vous pour répondre à notre enquête. 5 questions tout au plus, ça ne prendra qu'un instant.\",\n",
       " '💡 A tout moment, vous pourrez dire \"STOP\" pour arrêter le questionnaire.',\n",
       " \"Comment avez-vous trouvé l'échange avec votre conseiller Bouygues Télécom ?\",\n",
       " '⭐⭐⭐⭐',\n",
       " \"4 étoiles, merci ! Qu'avez-vous vraiment apprécié lors de cet échange ?\",\n",
       " 'A l’écoute de ma problématique Il manquerait une notion de temps d’attente avant qu’un conseillé prenne la communication',\n",
       " \"Et concert la convivialité de l'échange ? \",\n",
       " '⭐⭐⭐⭐',\n",
       " 'A présent, comment qualifiez-vous la solution apportée ?',\n",
       " '⭐⭐⭐⭐',\n",
       " \"Lors de ce contact, avez-vous eu l'ensemble des informations souhaitées ?\",\n",
       " 'Oui',\n",
       " 'Merci beaucoup pour vos réponses. A bientôt sur la messagerie 😉',\n",
       " 'Bjr',\n",
       " 'Bonjour Laurent, je suis l’Assistant Virtuel de Bouygues Telecom. Comment puis-je vous apporter mes lumières ?',\n",
       " 'Je vient de recevoir une facture de 250€ pour la non restitution du matériel bbox, puis je procéder à l’envoi ce jour et donc faire annuler cette facture',\n",
       " 'Voici des liens utiles qui peuvent vous orienter pour trouver rapidement la réponse à votre demande :',\n",
       " 'Continuer',\n",
       " 'Quelle est la ligne concernée par votre demande ?',\n",
       " '09 50 44 52 05',\n",
       " 'Il me faudrait le numéro de la ligne concernée pour vous répondre au mieux. Je vous écoute 😌',\n",
       " '09 50 44 52 05',\n",
       " 'Très bien, un de nos conseillers vous répondra ici dès que possible. Ils sont disponibles du lundi au dimanche, de 8h à 20h.',\n",
       " 'Bonjour M Di stefano 😃, je suis Saloua. Je prends la suite de cette conversation. Juste un instant, svp, le temps que je prenne connaissance de votre demande. ',\n",
       " 'Avec ce début d’année hors du commun j’ai complètement oublié cette restitution. Je suis e côté client mobile, ce serais vraiment sympa de m’accorder quelques jours de délai',\n",
       " \"Je vous remercie d'avoir patienté :') J'espère que vous allez bien, je vous renseigne avec plaisir, en fait je vous invite à restituer vos équipements aujourd'hui si possible, et après vous revenez vers nous svp, afin que je puisse procéder à un diagnostic sur votre compte. Je reste à votre disposition pour tout complément d'information.\",\n",
       " 'Ok, Merci. Je vois cela demain matin, je suis déjà au travail sans possibilités de revenir chez moi avant ce soir. Je reviendrais vers vous dès demain avec la preuve du dépôt',\n",
       " 'Très bien on fait comme ça alors ! Sur ce je vous souhaite une belle journée 🤗.',\n",
       " 'La discussion est-elle terminée avec votre conseiller ?',\n",
       " nan,\n",
       " 'Merci également',\n",
       " \"Désolé, je n'ai pas compris. Votre échange est-il terminé avec votre conseiller ?\",\n",
       " nan,\n",
       " \"Oui, j'ai terminé\",\n",
       " \"Super ! Nous aurions besoin de vous pour répondre à notre enquête. 5 questions tout au plus, ça ne prendra qu'un instant.\",\n",
       " '💡 A tout moment, vous pourrez dire \"STOP\" pour arrêter le questionnaire.',\n",
       " '⭐⭐⭐⭐',\n",
       " \"Comment avez-vous trouvé l'échange avec votre conseiller Bouygues Télécom ?\",\n",
       " \"4 étoiles, merci ! Qu'avez-vous vraiment apprécié lors de cet échange ?\",\n",
       " 'Bjr',\n",
       " \"Et concert la convivialité de l'échange ? \",\n",
       " 'Bjr',\n",
       " \"Je n'ai pas compris. Afin de connaitre votre satisfaction concert la convivialité de l'échange, merci de cliquer sur l'une de ces notes &#128071;\",\n",
       " '⭐⭐⭐⭐',\n",
       " 'A présent, comment qualifiez-vous la solution apportée ?',\n",
       " '⭐⭐⭐⭐',\n",
       " \"Lors de ce contact, avez-vous eu l'ensemble des informations souhaitées ?\",\n",
       " 'Oui',\n",
       " 'Merci beaucoup pour vos réponses. A bientôt sur la messagerie 😉',\n",
       " 'Bjt',\n",
       " \"J'ai l'impression que vous avez une nouvelle question. Souhaitez-vous que je passe la main à un conseiller ?\",\n",
       " 'Oui',\n",
       " 'Très bien, un de nos conseillers vous répondra ici dès que possible. Ils sont disponibles du lundi au dimanche, de 8h à 20h.',\n",
       " '09 50 44 52 05',\n",
       " 'Je vient de déposer mon colis de restitution dans un relais colis. Je vous envoie la preuve de dépôt',\n",
       " 'Numero colis',\n",
       " '9203104982',\n",
       " \"Rebonjour M Di stefano 😃; J'ai le plaisir de vous retrouver ! Veuillez me préciser svp par quel moyen avez-vous retourné le colis ? Via QR code ou Bordereau de dépôt ?\",\n",
       " 'Qr code',\n",
       " \"Je vous remercie pour cette précision :'). Je viens de terminer un diagnostic sur votre compte, donc je vous précise que lors de la restitution des équipements après la facturation de pénalités, le remboursement est automatique dans un délai maximum de 1 mois après la restitution. Si cela répond à votre demande, il me reste à vous souhaiter une bonne journée 🤗\",\n",
       " 'La discussion est-elle terminée avec votre conseiller ?',\n",
       " nan,\n",
       " 'Non, pas encore',\n",
       " 'Donc vous allez me débiter et ensuite me rembourse ?',\n",
       " 'Vous savez que je suis encore client mobile chez vous et que c’est le meilleur moyen de me perdre',\n",
       " \"Oui tout à fait, car la facture est éditée avant la restitution de vos équipements, c'est pour ça l'opération nécessite du temps et un traitement des équipements, et par la suite vous aurez votre remboursement automatiquement sous forme d'un virement sur votre compte sous un délais maximum de 1 mois après la restitution.\",\n",
       " 'Donc clairement vous préférez perdre un client que de faire le geste',\n",
       " \"Suite à notre échange téléphonique, je vous invite juste à patienter svp le temps du traitement de votre colis, car vous l'avez déposé aujourd'hui. Sur ce je vous souhaite une belle journée 🤗.\"]"
      ]
     },
     "execution_count": 14,
     "metadata": {},
     "output_type": "execute_result"
    }
   ],
   "source": [
    "list(continuer_dialogues.CommentBody.tail(70))"
   ]
  }
 ],
 "metadata": {
  "kernelspec": {
   "display_name": "Python 3",
   "language": "python",
   "name": "python3"
  },
  "language_info": {
   "codemirror_mode": {
    "name": "ipython",
    "version": 3
   },
   "file_extension": ".py",
   "mimetype": "text/x-python",
   "name": "python",
   "nbconvert_exporter": "python",
   "pygments_lexer": "ipython3",
   "version": "3.7.7"
  }
 },
 "nbformat": 4,
 "nbformat_minor": 4
}
