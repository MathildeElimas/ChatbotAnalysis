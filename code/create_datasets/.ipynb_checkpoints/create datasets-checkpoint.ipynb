{
 "cells": [
  {
   "cell_type": "code",
   "execution_count": 25,
   "metadata": {},
   "outputs": [],
   "source": [
    "import os\n",
    "\n",
    "import pandas as pd\n",
    "import collections\n",
    "import numpy as np\n",
    "import re"
   ]
  },
  {
   "cell_type": "code",
   "execution_count": 26,
   "metadata": {},
   "outputs": [
    {
     "data": {
      "text/plain": [
       "'C:\\\\Users\\\\MathildeElimas\\\\Documents\\\\BYTEL\\\\code\\\\create_datasets'"
      ]
     },
     "execution_count": 26,
     "metadata": {},
     "output_type": "execute_result"
    }
   ],
   "source": [
    "os.getcwd().replace('code\\\\create_datasets', 'Bot_Data\\\\')"
   ]
  },
  {
   "cell_type": "code",
   "execution_count": 2,
   "metadata": {},
   "outputs": [],
   "source": [
    "PATH = 'C:\\\\Users\\\\MathildeElimas\\\\Documents\\\\BYTEL\\\\Bot_Data\\\\'"
   ]
  },
  {
   "cell_type": "code",
   "execution_count": 3,
   "metadata": {},
   "outputs": [],
   "source": [
    "comment = pd.read_csv(PATH + 'bulkQuery_result_simple.csv', sep = ',')\n",
    "riche_comment = pd.read_csv(PATH + 'bulkQuery_result_riche_propre.csv', sep = ',')"
   ]
  },
  {
   "cell_type": "markdown",
   "metadata": {},
   "source": [
    "### Create buttons dataset"
   ]
  },
  {
   "cell_type": "code",
   "execution_count": 4,
   "metadata": {},
   "outputs": [],
   "source": [
    "riche_comment = riche_comment.replace('&#39;','\\'')\n",
    "riche_comment = riche_comment.replace('\\\\u200b\\\\r\\\\n;',' ')\n",
    "riche_comment = riche_comment.replace('\\\\n;',' ')"
   ]
  },
  {
   "cell_type": "code",
   "execution_count": 5,
   "metadata": {},
   "outputs": [],
   "source": [
    "del(riche_comment['Unnamed: 0'])"
   ]
  },
  {
   "cell_type": "code",
   "execution_count": 6,
   "metadata": {},
   "outputs": [],
   "source": [
    "buttons_data = riche_comment[['CreatedBy.Profile.Name','ParentId','CreatedDate','content.title','content.buttons']]"
   ]
  },
  {
   "cell_type": "code",
   "execution_count": 7,
   "metadata": {},
   "outputs": [
    {
     "data": {
      "text/html": [
       "<div>\n",
       "<style scoped>\n",
       "    .dataframe tbody tr th:only-of-type {\n",
       "        vertical-align: middle;\n",
       "    }\n",
       "\n",
       "    .dataframe tbody tr th {\n",
       "        vertical-align: top;\n",
       "    }\n",
       "\n",
       "    .dataframe thead th {\n",
       "        text-align: right;\n",
       "    }\n",
       "</style>\n",
       "<table border=\"1\" class=\"dataframe\">\n",
       "  <thead>\n",
       "    <tr style=\"text-align: right;\">\n",
       "      <th></th>\n",
       "      <th>CreatedBy.Profile.Name</th>\n",
       "      <th>ParentId</th>\n",
       "      <th>CreatedDate</th>\n",
       "      <th>content.title</th>\n",
       "      <th>content.buttons</th>\n",
       "    </tr>\n",
       "  </thead>\n",
       "  <tbody>\n",
       "    <tr>\n",
       "      <th>0</th>\n",
       "      <td>Utilisateur Technique</td>\n",
       "      <td>5001p00003imjqKAAQ</td>\n",
       "      <td>2020-08-03T16:18:06.000Z</td>\n",
       "      <td>Voici des liens utiles qui peuvent vous orient...</td>\n",
       "      <td>[{'value': 'Problème Box/Tv', 'title': 'Problè...</td>\n",
       "    </tr>\n",
       "    <tr>\n",
       "      <th>1</th>\n",
       "      <td>Utilisateur Technique</td>\n",
       "      <td>5001p00003imjqKAAQ</td>\n",
       "      <td>2020-08-03T16:18:50.000Z</td>\n",
       "      <td>Très bien, afin de vous répondre au mieux, pou...</td>\n",
       "      <td>[{'value': 'Mon mobile', 'title': 'Mon mobile'...</td>\n",
       "    </tr>\n",
       "    <tr>\n",
       "      <th>2</th>\n",
       "      <td>Utilisateur Technique</td>\n",
       "      <td>5001p00003imjqKAAQ</td>\n",
       "      <td>2020-08-03T16:19:01.000Z</td>\n",
       "      <td>Pouvez-vous me confirmer que votre demande con...</td>\n",
       "      <td>[{'value': 'Oui', 'title': 'Oui'}, {'value': '...</td>\n",
       "    </tr>\n",
       "    <tr>\n",
       "      <th>3</th>\n",
       "      <td>Utilisateur Technique</td>\n",
       "      <td>5001p00003imjqKAAQ</td>\n",
       "      <td>2020-08-03T16:19:30.000Z</td>\n",
       "      <td>Afin de vous dépanner, notre assistance sur le...</td>\n",
       "      <td>[{'value': 'Oui', 'title': 'Oui'}, {'value': '...</td>\n",
       "    </tr>\n",
       "    <tr>\n",
       "      <th>4</th>\n",
       "      <td>Utilisateur Technique</td>\n",
       "      <td>5001p00003imjqKAAQ</td>\n",
       "      <td>2020-08-03T16:20:07.000Z</td>\n",
       "      <td>Souhaitez-vous le faire maintenant ?</td>\n",
       "      <td>[{'value': 'Oui', 'title': 'Oui'}, {'value': '...</td>\n",
       "    </tr>\n",
       "  </tbody>\n",
       "</table>\n",
       "</div>"
      ],
      "text/plain": [
       "  CreatedBy.Profile.Name            ParentId               CreatedDate  \\\n",
       "0  Utilisateur Technique  5001p00003imjqKAAQ  2020-08-03T16:18:06.000Z   \n",
       "1  Utilisateur Technique  5001p00003imjqKAAQ  2020-08-03T16:18:50.000Z   \n",
       "2  Utilisateur Technique  5001p00003imjqKAAQ  2020-08-03T16:19:01.000Z   \n",
       "3  Utilisateur Technique  5001p00003imjqKAAQ  2020-08-03T16:19:30.000Z   \n",
       "4  Utilisateur Technique  5001p00003imjqKAAQ  2020-08-03T16:20:07.000Z   \n",
       "\n",
       "                                       content.title  \\\n",
       "0  Voici des liens utiles qui peuvent vous orient...   \n",
       "1  Très bien, afin de vous répondre au mieux, pou...   \n",
       "2  Pouvez-vous me confirmer que votre demande con...   \n",
       "3  Afin de vous dépanner, notre assistance sur le...   \n",
       "4               Souhaitez-vous le faire maintenant ?   \n",
       "\n",
       "                                     content.buttons  \n",
       "0  [{'value': 'Problème Box/Tv', 'title': 'Problè...  \n",
       "1  [{'value': 'Mon mobile', 'title': 'Mon mobile'...  \n",
       "2  [{'value': 'Oui', 'title': 'Oui'}, {'value': '...  \n",
       "3  [{'value': 'Oui', 'title': 'Oui'}, {'value': '...  \n",
       "4  [{'value': 'Oui', 'title': 'Oui'}, {'value': '...  "
      ]
     },
     "execution_count": 7,
     "metadata": {},
     "output_type": "execute_result"
    }
   ],
   "source": [
    "buttons_data.head()"
   ]
  },
  {
   "cell_type": "code",
   "execution_count": 8,
   "metadata": {},
   "outputs": [],
   "source": [
    "buttons = riche_comment[riche_comment['content.buttons'] == riche_comment['content.buttons']]['content.buttons'].unique()\n",
    "buttons = sum([eval(x) for x in buttons], [])\n",
    "buttons = [x['value'] for x in buttons]\n",
    "buttons = [x for x in buttons if not re.match('\\d{2}\\/\\d{2}\\/\\d{4}',x)]\n",
    "buttons = list(set(buttons))"
   ]
  },
  {
   "cell_type": "code",
   "execution_count": 9,
   "metadata": {},
   "outputs": [
    {
     "data": {
      "text/plain": [
       "['+ d&#39;infos', '0147392220', '0160492284', '0171325589', '0321223862']"
      ]
     },
     "execution_count": 9,
     "metadata": {},
     "output_type": "execute_result"
    }
   ],
   "source": [
    "sorted(buttons)[:5]"
   ]
  },
  {
   "cell_type": "code",
   "execution_count": 10,
   "metadata": {},
   "outputs": [],
   "source": [
    "buttons_data.to_csv(PATH + 'buttons.csv')"
   ]
  },
  {
   "cell_type": "markdown",
   "metadata": {},
   "source": [
    "### Create dialogues dataset"
   ]
  },
  {
   "cell_type": "code",
   "execution_count": 11,
   "metadata": {},
   "outputs": [],
   "source": [
    "dialogues = comment.copy()"
   ]
  },
  {
   "cell_type": "code",
   "execution_count": 12,
   "metadata": {},
   "outputs": [],
   "source": [
    "nobot_comments = dialogues.loc[dialogues['CreatedBy.Profile.Name'] == 'Utilisateur Technique'].CommentBody\n",
    "nobot_comments = [x for x in nobot_comments if x not in buttons]\n",
    "\n",
    "nobot_comments = dict(collections.Counter(nobot_comments))\n",
    "nobot_comments = dict(sorted(nobot_comments.items(), key=lambda kv: kv[1], reverse = True))\n",
    "\n",
    "nobot_comments = dict([(k,v) for k,v in nobot_comments.items() if v<=1])\n",
    "\n",
    "nobot_comments = dict([(k,v) for k,v in nobot_comments.items() \n",
    "                       if not re.search('je suis l’assistant virtuel de bouygues telecom',k,re.IGNORECASE)])\n",
    "nobot_comments = dict([(k,v) for k,v in nobot_comments.items() \n",
    "                       if not re.search('pour un montant de',k,re.IGNORECASE)])\n",
    "nobot_comments = dict([(k,v) for k,v in nobot_comments.items() \n",
    "                       if not re.search('sur cette facture du',k,re.IGNORECASE)])\n",
    "nobot_comments = dict([(k,v) for k,v in nobot_comments.items() \n",
    "                       if not re.search('je transmets votre message à ',k,re.IGNORECASE)])\n",
    "nobot_comments = dict([(k,v) for k,v in nobot_comments.items() \n",
    "                       if not re.search('vous avez également un dépassement',k,re.IGNORECASE)])\n",
    "nobot_comments = dict([(k,v) for k,v in nobot_comments.items() \n",
    "                       if not re.search('chez bouygues telecom, vous',k,re.IGNORECASE)])\n",
    "\n",
    "nobot_comments = list(nobot_comments.keys())\n",
    "nobot_comments = nobot_comments + buttons"
   ]
  },
  {
   "cell_type": "code",
   "execution_count": 13,
   "metadata": {},
   "outputs": [],
   "source": [
    "dialogues['match'] = [x if x in nobot_comments else None for x in dialogues['CommentBody']]\n",
    "dialogues.loc[dialogues['match'] == dialogues['match'], 'CreatedBy.Profile.Name'] = 'Bytel Customer Community User'\n",
    "del(dialogues['match'])"
   ]
  },
  {
   "cell_type": "code",
   "execution_count": 14,
   "metadata": {},
   "outputs": [
    {
     "data": {
      "text/html": [
       "<div>\n",
       "<style scoped>\n",
       "    .dataframe tbody tr th:only-of-type {\n",
       "        vertical-align: middle;\n",
       "    }\n",
       "\n",
       "    .dataframe tbody tr th {\n",
       "        vertical-align: top;\n",
       "    }\n",
       "\n",
       "    .dataframe thead th {\n",
       "        text-align: right;\n",
       "    }\n",
       "</style>\n",
       "<table border=\"1\" class=\"dataframe\">\n",
       "  <thead>\n",
       "    <tr style=\"text-align: right;\">\n",
       "      <th></th>\n",
       "      <th>CreatedBy.Profile.Name</th>\n",
       "      <th>CommentBody</th>\n",
       "      <th>ParentId</th>\n",
       "      <th>CreatedDate</th>\n",
       "    </tr>\n",
       "  </thead>\n",
       "  <tbody>\n",
       "    <tr>\n",
       "      <th>0</th>\n",
       "      <td>Bytel Customer Community User</td>\n",
       "      <td>Bonjour j'ai rendu mon équipement box est je n...</td>\n",
       "      <td>5001p00003imjqKAAQ</td>\n",
       "      <td>2020-08-03T16:18:00.000Z</td>\n",
       "    </tr>\n",
       "    <tr>\n",
       "      <th>1</th>\n",
       "      <td>Utilisateur Technique</td>\n",
       "      <td>Bonjour\\nJe suis l’Assistant Virtuel de Bouygu...</td>\n",
       "      <td>5001p00003imjqKAAQ</td>\n",
       "      <td>2020-08-03T16:18:05.000Z</td>\n",
       "    </tr>\n",
       "    <tr>\n",
       "      <th>2</th>\n",
       "      <td>Bytel Customer Community User</td>\n",
       "      <td>Problème Box/Tv</td>\n",
       "      <td>5001p00003imjqKAAQ</td>\n",
       "      <td>2020-08-03T16:18:10.000Z</td>\n",
       "    </tr>\n",
       "    <tr>\n",
       "      <th>3</th>\n",
       "      <td>Utilisateur Technique</td>\n",
       "      <td>Très bien, quelle est la ligne concernée par v...</td>\n",
       "      <td>5001p00003imjqKAAQ</td>\n",
       "      <td>2020-08-03T16:18:12.000Z</td>\n",
       "    </tr>\n",
       "    <tr>\n",
       "      <th>4</th>\n",
       "      <td>Bytel Customer Community User</td>\n",
       "      <td>Je n'ai pas de numéro</td>\n",
       "      <td>5001p00003imjqKAAQ</td>\n",
       "      <td>2020-08-03T16:18:29.000Z</td>\n",
       "    </tr>\n",
       "  </tbody>\n",
       "</table>\n",
       "</div>"
      ],
      "text/plain": [
       "          CreatedBy.Profile.Name  \\\n",
       "0  Bytel Customer Community User   \n",
       "1          Utilisateur Technique   \n",
       "2  Bytel Customer Community User   \n",
       "3          Utilisateur Technique   \n",
       "4  Bytel Customer Community User   \n",
       "\n",
       "                                         CommentBody            ParentId  \\\n",
       "0  Bonjour j'ai rendu mon équipement box est je n...  5001p00003imjqKAAQ   \n",
       "1  Bonjour\\nJe suis l’Assistant Virtuel de Bouygu...  5001p00003imjqKAAQ   \n",
       "2                                    Problème Box/Tv  5001p00003imjqKAAQ   \n",
       "3  Très bien, quelle est la ligne concernée par v...  5001p00003imjqKAAQ   \n",
       "4                              Je n'ai pas de numéro  5001p00003imjqKAAQ   \n",
       "\n",
       "                CreatedDate  \n",
       "0  2020-08-03T16:18:00.000Z  \n",
       "1  2020-08-03T16:18:05.000Z  \n",
       "2  2020-08-03T16:18:10.000Z  \n",
       "3  2020-08-03T16:18:12.000Z  \n",
       "4  2020-08-03T16:18:29.000Z  "
      ]
     },
     "execution_count": 14,
     "metadata": {},
     "output_type": "execute_result"
    }
   ],
   "source": [
    "dialogues.head()"
   ]
  },
  {
   "cell_type": "code",
   "execution_count": 15,
   "metadata": {},
   "outputs": [],
   "source": [
    "dialogues = pd.merge(dialogues, buttons_data, on = ['ParentId', 'CreatedDate','CreatedBy.Profile.Name'], how = 'outer')"
   ]
  },
  {
   "cell_type": "code",
   "execution_count": 16,
   "metadata": {},
   "outputs": [],
   "source": [
    "dialogues['CommentBody'] = (dialogues['CommentBody'].astype('U') + \n",
    "                            dialogues['content.title'].astype('U')).str.replace('nan', '')\n",
    "dialogues[\"CommentBody\"] = dialogues.CommentBody.str.replace('\\&#39;',\"'\")\n",
    "dialogues['CommentBody'] = dialogues.CommentBody.str.replace('\\u200b',' ')\n",
    "dialogues['CommentBody'] = dialogues.CommentBody.str.replace('\\n',' ')\n",
    "dialogues['CommentBody'] = dialogues.CommentBody.str.replace('\\r',' ')\n",
    "dialogues['CommentBody'] = [re.sub(' +', ' ',x) for x in dialogues.CommentBody]\n",
    "\n",
    "del(dialogues['content.title'])"
   ]
  },
  {
   "cell_type": "code",
   "execution_count": 17,
   "metadata": {},
   "outputs": [],
   "source": [
    "dialogues = dialogues.sort_values(['ParentId', 'CreatedDate'])\n",
    "dialogues = dialogues.reset_index(drop = True)"
   ]
  },
  {
   "cell_type": "code",
   "execution_count": 22,
   "metadata": {},
   "outputs": [
    {
     "data": {
      "text/html": [
       "<div>\n",
       "<style scoped>\n",
       "    .dataframe tbody tr th:only-of-type {\n",
       "        vertical-align: middle;\n",
       "    }\n",
       "\n",
       "    .dataframe tbody tr th {\n",
       "        vertical-align: top;\n",
       "    }\n",
       "\n",
       "    .dataframe thead th {\n",
       "        text-align: right;\n",
       "    }\n",
       "</style>\n",
       "<table border=\"1\" class=\"dataframe\">\n",
       "  <thead>\n",
       "    <tr style=\"text-align: right;\">\n",
       "      <th></th>\n",
       "      <th>CreatedBy.Profile.Name</th>\n",
       "      <th>CommentBody</th>\n",
       "      <th>ParentId</th>\n",
       "      <th>CreatedDate</th>\n",
       "      <th>content.buttons</th>\n",
       "    </tr>\n",
       "  </thead>\n",
       "  <tbody>\n",
       "    <tr>\n",
       "      <th>0</th>\n",
       "      <td>Bytel Customer Community User</td>\n",
       "      <td>Bonjour j'ai rendu mon équipement box est je n...</td>\n",
       "      <td>5001p00003imjqKAAQ</td>\n",
       "      <td>2020-08-03T16:18:00.000Z</td>\n",
       "      <td>NaN</td>\n",
       "    </tr>\n",
       "    <tr>\n",
       "      <th>1</th>\n",
       "      <td>Utilisateur Technique</td>\n",
       "      <td>Bonjour Je suis l’Assistant Virtuel de Bouygue...</td>\n",
       "      <td>5001p00003imjqKAAQ</td>\n",
       "      <td>2020-08-03T16:18:05.000Z</td>\n",
       "      <td>NaN</td>\n",
       "    </tr>\n",
       "    <tr>\n",
       "      <th>2</th>\n",
       "      <td>Utilisateur Technique</td>\n",
       "      <td>Voici des liens utiles qui peuvent vous orient...</td>\n",
       "      <td>5001p00003imjqKAAQ</td>\n",
       "      <td>2020-08-03T16:18:06.000Z</td>\n",
       "      <td>[{'value': 'Problème Box/Tv', 'title': 'Problè...</td>\n",
       "    </tr>\n",
       "    <tr>\n",
       "      <th>3</th>\n",
       "      <td>Bytel Customer Community User</td>\n",
       "      <td>Problème Box/Tv</td>\n",
       "      <td>5001p00003imjqKAAQ</td>\n",
       "      <td>2020-08-03T16:18:10.000Z</td>\n",
       "      <td>NaN</td>\n",
       "    </tr>\n",
       "    <tr>\n",
       "      <th>4</th>\n",
       "      <td>Utilisateur Technique</td>\n",
       "      <td>Très bien, quelle est la ligne concernée par v...</td>\n",
       "      <td>5001p00003imjqKAAQ</td>\n",
       "      <td>2020-08-03T16:18:12.000Z</td>\n",
       "      <td>NaN</td>\n",
       "    </tr>\n",
       "  </tbody>\n",
       "</table>\n",
       "</div>"
      ],
      "text/plain": [
       "          CreatedBy.Profile.Name  \\\n",
       "0  Bytel Customer Community User   \n",
       "1          Utilisateur Technique   \n",
       "2          Utilisateur Technique   \n",
       "3  Bytel Customer Community User   \n",
       "4          Utilisateur Technique   \n",
       "\n",
       "                                         CommentBody            ParentId  \\\n",
       "0  Bonjour j'ai rendu mon équipement box est je n...  5001p00003imjqKAAQ   \n",
       "1  Bonjour Je suis l’Assistant Virtuel de Bouygue...  5001p00003imjqKAAQ   \n",
       "2  Voici des liens utiles qui peuvent vous orient...  5001p00003imjqKAAQ   \n",
       "3                                    Problème Box/Tv  5001p00003imjqKAAQ   \n",
       "4  Très bien, quelle est la ligne concernée par v...  5001p00003imjqKAAQ   \n",
       "\n",
       "                CreatedDate                                    content.buttons  \n",
       "0  2020-08-03T16:18:00.000Z                                                NaN  \n",
       "1  2020-08-03T16:18:05.000Z                                                NaN  \n",
       "2  2020-08-03T16:18:06.000Z  [{'value': 'Problème Box/Tv', 'title': 'Problè...  \n",
       "3  2020-08-03T16:18:10.000Z                                                NaN  \n",
       "4  2020-08-03T16:18:12.000Z                                                NaN  "
      ]
     },
     "execution_count": 22,
     "metadata": {},
     "output_type": "execute_result"
    }
   ],
   "source": [
    "dialogues.head()"
   ]
  },
  {
   "cell_type": "code",
   "execution_count": 18,
   "metadata": {},
   "outputs": [],
   "source": [
    "dialogues.to_csv(PATH + 'dialogues.csv')"
   ]
  },
  {
   "cell_type": "code",
   "execution_count": 19,
   "metadata": {},
   "outputs": [],
   "source": [
    "# dialogues[dialogues['CommentBody'] == 'Mobile']"
   ]
  },
  {
   "cell_type": "code",
   "execution_count": 20,
   "metadata": {},
   "outputs": [],
   "source": [
    "# list(dialogues[dialogues.index>2376].CommentBody)"
   ]
  }
 ],
 "metadata": {
  "kernelspec": {
   "display_name": "Python 3",
   "language": "python",
   "name": "python3"
  },
  "language_info": {
   "codemirror_mode": {
    "name": "ipython",
    "version": 3
   },
   "file_extension": ".py",
   "mimetype": "text/x-python",
   "name": "python",
   "nbconvert_exporter": "python",
   "pygments_lexer": "ipython3",
   "version": "3.7.7"
  }
 },
 "nbformat": 4,
 "nbformat_minor": 4
}
