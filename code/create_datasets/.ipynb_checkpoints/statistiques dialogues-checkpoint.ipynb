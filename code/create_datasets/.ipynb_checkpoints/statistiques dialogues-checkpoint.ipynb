{
 "cells": [
  {
   "cell_type": "code",
   "execution_count": 1,
   "metadata": {},
   "outputs": [],
   "source": [
    "import os\n",
    "\n",
    "import pandas as pd\n",
    "import numpy as np\n",
    "import matplotlib.pyplot as plt"
   ]
  },
  {
   "cell_type": "code",
   "execution_count": 2,
   "metadata": {},
   "outputs": [],
   "source": [
    "PATH = os.getcwd().replace('code\\\\create_datasets', 'Bot_Data\\\\')"
   ]
  },
  {
   "cell_type": "code",
   "execution_count": 3,
   "metadata": {},
   "outputs": [],
   "source": [
    "dialogues = pd.read_csv(PATH + 'dialogues.csv', sep = ',')"
   ]
  },
  {
   "cell_type": "code",
   "execution_count": 4,
   "metadata": {
    "scrolled": true
   },
   "outputs": [
    {
     "data": {
      "text/html": [
       "<div>\n",
       "<style scoped>\n",
       "    .dataframe tbody tr th:only-of-type {\n",
       "        vertical-align: middle;\n",
       "    }\n",
       "\n",
       "    .dataframe tbody tr th {\n",
       "        vertical-align: top;\n",
       "    }\n",
       "\n",
       "    .dataframe thead th {\n",
       "        text-align: right;\n",
       "    }\n",
       "</style>\n",
       "<table border=\"1\" class=\"dataframe\">\n",
       "  <thead>\n",
       "    <tr style=\"text-align: right;\">\n",
       "      <th></th>\n",
       "      <th>Unnamed: 0</th>\n",
       "      <th>CreatedBy.Profile.Name</th>\n",
       "      <th>CommentBody</th>\n",
       "      <th>ParentId</th>\n",
       "      <th>CreatedDate</th>\n",
       "      <th>content.buttons</th>\n",
       "    </tr>\n",
       "  </thead>\n",
       "  <tbody>\n",
       "    <tr>\n",
       "      <th>0</th>\n",
       "      <td>0</td>\n",
       "      <td>Bytel Customer Community User</td>\n",
       "      <td>Bonjour j'ai rendu mon équipement box est je n...</td>\n",
       "      <td>5001p00003imjqKAAQ</td>\n",
       "      <td>2020-08-03T16:18:00.000Z</td>\n",
       "      <td>NaN</td>\n",
       "    </tr>\n",
       "    <tr>\n",
       "      <th>1</th>\n",
       "      <td>1</td>\n",
       "      <td>Utilisateur Technique</td>\n",
       "      <td>Bonjour Je suis l’Assistant Virtuel de Bouygue...</td>\n",
       "      <td>5001p00003imjqKAAQ</td>\n",
       "      <td>2020-08-03T16:18:05.000Z</td>\n",
       "      <td>NaN</td>\n",
       "    </tr>\n",
       "    <tr>\n",
       "      <th>2</th>\n",
       "      <td>2</td>\n",
       "      <td>Utilisateur Technique</td>\n",
       "      <td>Voici des liens utiles qui peuvent vous orient...</td>\n",
       "      <td>5001p00003imjqKAAQ</td>\n",
       "      <td>2020-08-03T16:18:06.000Z</td>\n",
       "      <td>[{'value': 'Problème Box/Tv', 'title': 'Problè...</td>\n",
       "    </tr>\n",
       "    <tr>\n",
       "      <th>3</th>\n",
       "      <td>3</td>\n",
       "      <td>Bytel Customer Community User</td>\n",
       "      <td>Problème Box/Tv</td>\n",
       "      <td>5001p00003imjqKAAQ</td>\n",
       "      <td>2020-08-03T16:18:10.000Z</td>\n",
       "      <td>NaN</td>\n",
       "    </tr>\n",
       "    <tr>\n",
       "      <th>4</th>\n",
       "      <td>4</td>\n",
       "      <td>Utilisateur Technique</td>\n",
       "      <td>Très bien, quelle est la ligne concernée par v...</td>\n",
       "      <td>5001p00003imjqKAAQ</td>\n",
       "      <td>2020-08-03T16:18:12.000Z</td>\n",
       "      <td>NaN</td>\n",
       "    </tr>\n",
       "  </tbody>\n",
       "</table>\n",
       "</div>"
      ],
      "text/plain": [
       "   Unnamed: 0         CreatedBy.Profile.Name  \\\n",
       "0           0  Bytel Customer Community User   \n",
       "1           1          Utilisateur Technique   \n",
       "2           2          Utilisateur Technique   \n",
       "3           3  Bytel Customer Community User   \n",
       "4           4          Utilisateur Technique   \n",
       "\n",
       "                                         CommentBody            ParentId  \\\n",
       "0  Bonjour j'ai rendu mon équipement box est je n...  5001p00003imjqKAAQ   \n",
       "1  Bonjour Je suis l’Assistant Virtuel de Bouygue...  5001p00003imjqKAAQ   \n",
       "2  Voici des liens utiles qui peuvent vous orient...  5001p00003imjqKAAQ   \n",
       "3                                    Problème Box/Tv  5001p00003imjqKAAQ   \n",
       "4  Très bien, quelle est la ligne concernée par v...  5001p00003imjqKAAQ   \n",
       "\n",
       "                CreatedDate                                    content.buttons  \n",
       "0  2020-08-03T16:18:00.000Z                                                NaN  \n",
       "1  2020-08-03T16:18:05.000Z                                                NaN  \n",
       "2  2020-08-03T16:18:06.000Z  [{'value': 'Problème Box/Tv', 'title': 'Problè...  \n",
       "3  2020-08-03T16:18:10.000Z                                                NaN  \n",
       "4  2020-08-03T16:18:12.000Z                                                NaN  "
      ]
     },
     "execution_count": 4,
     "metadata": {},
     "output_type": "execute_result"
    }
   ],
   "source": [
    "dialogues.head()"
   ]
  },
  {
   "cell_type": "code",
   "execution_count": 5,
   "metadata": {},
   "outputs": [
    {
     "name": "stdout",
     "output_type": "stream",
     "text": [
      "nombre de conversations : 9541\n",
      "moyenne : 18.090975788701392\n",
      "écart-type : 13.418825632512354\n"
     ]
    }
   ],
   "source": [
    "# Nombre d'échange par conversation\n",
    "nb_echanges = list(dialogues.groupby('ParentId').CommentBody.count())\n",
    "print( \"nombre de conversations : %s\" % (len(nb_echanges)))\n",
    "print( \"moyenne : %s\" % (np.mean(nb_echanges)))\n",
    "print( \"écart-type : %s\" % (np.std(nb_echanges)))"
   ]
  },
  {
   "cell_type": "code",
   "execution_count": 6,
   "metadata": {},
   "outputs": [
    {
     "data": {
      "text/plain": [
       "count    9541.000000\n",
       "mean       18.090976\n",
       "std        13.419529\n",
       "min         1.000000\n",
       "25%         9.000000\n",
       "50%        16.000000\n",
       "75%        24.000000\n",
       "max       148.000000\n",
       "dtype: float64"
      ]
     },
     "execution_count": 6,
     "metadata": {},
     "output_type": "execute_result"
    }
   ],
   "source": [
    "pd.Series(nb_echanges).describe()"
   ]
  },
  {
   "cell_type": "code",
   "execution_count": 7,
   "metadata": {},
   "outputs": [
    {
     "name": "stdout",
     "output_type": "stream",
     "text": [
      "nombre de conversations avec moins d'1 échanges: 250\n"
     ]
    }
   ],
   "source": [
    "# regarder les conversations qui ont moins de 4 échanges\n",
    "abandons = dialogues.groupby('ParentId').filter(lambda x : x['CommentBody'].count() < 2)\n",
    "print( \"nombre de conversations avec moins d'1 échanges: %s\" % (len(list(abandons.ParentId.unique()))))"
   ]
  },
  {
   "cell_type": "code",
   "execution_count": 8,
   "metadata": {},
   "outputs": [],
   "source": [
    "longDialogues = dialogues[~dialogues.ParentId.isin(list(abandons.ParentId.unique()))]"
   ]
  },
  {
   "cell_type": "code",
   "execution_count": 9,
   "metadata": {},
   "outputs": [
    {
     "data": {
      "text/plain": [
       "9291"
      ]
     },
     "execution_count": 9,
     "metadata": {},
     "output_type": "execute_result"
    }
   ],
   "source": [
    "len(longDialogues.ParentId.unique())"
   ]
  },
  {
   "cell_type": "markdown",
   "metadata": {},
   "source": [
    "Répartition des intentions : \n",
    "    - pbm de Box\n",
    "    - Réseau mobile\n",
    "    - Explication facture\n",
    "    - Continuer"
   ]
  },
  {
   "cell_type": "code",
   "execution_count": 10,
   "metadata": {},
   "outputs": [],
   "source": [
    "def create_intent_datasets(category):\n",
    "    ids = list(dialogues[dialogues['CommentBody'] == category].ParentId.unique())\n",
    "    return ids, dialogues[dialogues.ParentId.isin(ids)]\n",
    "\n",
    "\n",
    "bbox_ids, bbox_dialogues = create_intent_datasets('Problème Box/Tv')\n",
    "facture_ids, facture_dialogues = create_intent_datasets('Explication facture')\n",
    "reseau_ids, reseau_dialogues = create_intent_datasets('Réseau mobile')\n",
    "continuer_ids, continuer_dialogues = create_intent_datasets('Continuer')\n",
    "\n",
    "autres = dialogues[~dialogues.ParentId.isin(bbox_ids + facture_ids + reseau_ids + continuer_ids)]\n",
    "\n",
    "bbox_dialogues.name = 'Problème Box/TV'\n",
    "facture_dialogues.name = 'Explication facture'\n",
    "reseau_dialogues.name = 'Réseau mobile'\n",
    "continuer_dialogues.name = 'Continuer'\n",
    "autres.name = 'Autres'"
   ]
  },
  {
   "cell_type": "code",
   "execution_count": 11,
   "metadata": {},
   "outputs": [
    {
     "data": {
      "image/png": "[encoded data removed]",
      "text/plain": [
       "<Figure size 432x288 with 1 Axes>"
      ]
     },
     "metadata": {
      "needs_background": "light"
     },
     "output_type": "display_data"
    }
   ],
   "source": [
    "nb_dialogues = lambda data : [data.name, len(data.ParentId.unique())]\n",
    "\n",
    "nb_dialogues_intent = dict(map(nb_dialogues, [bbox_dialogues, facture_dialogues, continuer_dialogues, reseau_dialogues, autres]))\n",
    "nb_dialogues_intent = dict(sorted(nb_dialogues_intent.items(), key=lambda kv: kv[1], reverse = True))\n",
    "\n",
    "plt.bar(nb_dialogues_intent.keys(), nb_dialogues_intent.values(), width = 0.5, color = '#00B0F0')\n",
    "plt.title(\"Répartition du nombre de dialogues par intentions\")\n",
    "plt.xticks(rotation = 12)\n",
    "\n",
    "plt.savefig(PATH + 'repartition_intentions.png')"
   ]
  },
  {
   "cell_type": "code",
   "execution_count": 12,
   "metadata": {},
   "outputs": [],
   "source": [
    "# bbox_dialogues.to_csv(PATH + 'bbox.csv')\n",
    "# facture_dialogues.to_csv(PATH + 'facture.csv')\n",
    "# continuer_dialogues.to_csv(PATH + 'continuer.csv')\n",
    "# reseau_dialogues.to_csv(PATH + 'reseau.csv')\n",
    "# autres.to_csv(PATH + 'autres.csv')"
   ]
  },
  {
   "cell_type": "code",
   "execution_count": 19,
   "metadata": {},
   "outputs": [
    {
     "data": {
      "text/plain": [
       "[\"Merci d'avoir patienté, effectivement il y a eu un souci concert votre changement d'offre. Un responsable a essayé de vous contacter le 23/07 mais sans succès, il vous a laissé un message vocal.\\xa0 Merci de me donner une tranche horaire de joignabilité svp afin de reprogrammer le rappel.\\xa0\",\n",
       " \"Si après avoir désactivé le renvoi d'appels le problème avec la téléphonie persiste, je vous conseille de profiter de notre diagnostic interactif, via l’application Diag Bbox. Si, après avoir suivi les manipulations y expliquées, le souci persiste toujours, vous aurez la possibilité de programmer un rappel de la part d'un de nos techniciens qui pourra intervenir dans la foulée. Je vous invite vivement à faire le diagnostic par ici: https://www.assistance.bouyguestelecom.fr/diagnostic-bbox\",\n",
       " \"Je vois que vous avez un échéancier programmer pour le 31/08 qui sera réglé par prélèvement automatique c'est la ou le reste de l’impayé sera prélevé et vous n'aurez pas d'impayé sur le dossier Tant que la facture n'est pas payé en totalité c'est normal d'avoir un impayé sur le dossier Si tout est clair pour vous ,je vous remercie de nous avoir fait part de votre demande et je vous souhaite une excellente journée\",\n",
       " \"Bonjour M. Euvrard, J'aurais aimé vous aider directement, mais votre demande nécessite un échange téléphonique avec la cellule technique. Aussi, je vous invite à programmer un rappel, selon vos disponibilités, ici : https://www.bouyguestelecom.fr/mon-compte/rappelconseiller# Je vous souhaite une bonne journée.\",\n",
       " 'Concert votre problème\\xa0technique, votre question nécessite un échange de vive voix. Pour cela, je vous invite à programmer un rappel, selon vos disponibilités, ici : https://www.bouyguestelecom.fr/mon-compte/rappelconseiller# Important : soyez à proximité de vos équipements lorsque nous allons vous recontacter.',\n",
       " 'L\\'option \"Double Appel\", il faut la programmer depuis votre téléphone, dans \"réglages\"',\n",
       " 'Tout d\\'abord ,\\xa0j\\'espère que vous allez bien ainsi que votre famille :) Votre demande nécessite un échange de vive voix avec un conseiller\\xa0du service technique .Pour cela, je vous invite à programmer un rappel, selon vos disponibilités, ici : https://www.bouyguestelecom.fr/mon-compte/rappelconseiller# Important : soyez à proximité de vos équipements lorsque nous allons vous recontacter. Sinon , vous avez la possibilité de les contacter directement sur le 1064 en précisant sur le serveur avec un langage naturel \" problème\\xa0box\" afin d\\'avoir le service.\\xa0 Je reste à votre disposition, prenez soin de vous 😊',\n",
       " 'Je vous informe que puisque vous dites que votre télécommande ne fonctionne pas , je vous prie de prendre contacte avec le service technique soit\\xa0 sur le 1064 soir de programmer un rappel selon vos disponibilités en utilisant\\xa0 le lien suivant\\xa0: \\xa0https://www.bouyguestelecom.fr/mon-compte/rappelconseiller# Afin de pouvoir résoudre le souci le plus rapidement possible\\xa0 Je reste à votre disposition \\xa0',\n",
       " 'Pour cela, cliquez ici pour programmer un rappel sur le créneau de votre choix &#128071;',\n",
       " \"Tout d'abord , j'espère que vous allez bien ainsi que votre famille :) Je suis vraiment\\xa0 navrée de savoir\\xa0 que vous avez des soucis au niveau de votre box, et je vous informe que votre question est purement technique pour cela je vous invite à\\xa0 contacter le service technique sur le 1064 ou\\xa0 bien\\xa0\\xa0programmer un rappel, selon vos disponibilités, ici : https://www.bouyguestelecom.fr/mon-compte/rappelconseiller# Important : soyez à proximité de vos équipements lorsque nous allons vous recontacter. Prenez soin de vous et je reste à\\xa0 votre disposition 😊\",\n",
       " \"il y aucun message, il y a juste un pictogramme d'attente a ma demande qui apparait\",\n",
       " 'Dans un premier, je vous présente mes sincères excuses pour la gêne occasionnée, croyez-moi je comprends parfaitement à quel point c\\'est gêt\\xa0de rencontrer des soucis au niveau de votre connexion box.\\xa0 \\xa0 En revanche, soyez rassurée svp, car on a un service technique qui peut vous aider à régler ce souci de réseau d\\'une manière définitive, je vous invite svp d\\'essayer de le joindre au 1064, c\\'est un numéro gratuit, en disant par voix normale \"J\\'ai un problème de box\" et vous serez orientée automatiquement vers l\\'assistance technique.\\xa0 Ou bien, je vous invite tout simplement à programmer un rappel depuis le lien suivant pour que l\\'un de mes collègues de service technique puisse prendre contact avec vous\\xa0:\\xa0 https://www.bouyguestelecom.fr/mon-compte/rappelconseiller# Je reste à votre disposition.',\n",
       " 'Je vous remercie de votre retour.\\xa0 Je viens de programmer un rappel pour\\xa0payer votre facture.\\xa0Vous serez contacté dans les plus brefs délais.\\xa0 Je reste à votre disposition🙂.',\n",
       " 'Vous pouvez programmer votre déménagement en toute autonomie depuis ce lien: \\xa0https://www.bouyguestelecom.fr/mon-compte/demenagement-box/610009115140 Sinon, vous pouvez nous relancer quand vous êtes disponible :)',\n",
       " 'Dans un premier, je vous présente mes sincères excuses pour la gêne occasionnée, croyez-moi je comprends parfaitement à quel point c\\'est gêt\\xa0de rencontrer des soucis au niveau de votre connexion box.\\xa0 \\xa0 En revanche, soyez rassurée svp, car on a un service technique qui peut vous aider à régler ce souci de réseau d\\'une manière définitive, je vous invite svp d\\'essayer de le joindre au 1064, c\\'est un numéro gratuit, en disant par voix normale \"J\\'ai un problème de box\" et vous serez orientée automatiquement vers l\\'assistance technique.\\xa0 Ou bien, je vous invite tout simplement à programmer un rappel depuis le lien suivant pour que l\\'un de mes collègues de service technique puisse prendre contact avec vous\\xa0:\\xa0 https://www.bouyguestelecom.fr/mon-compte/rappelconseiller# Je reste à votre disposition. \\xa0',\n",
       " \"Bonjour Mme\\xa0Kanesamoorthy , Bienvenu au service clients Bouygues Télécom, Je suis Hatim votre assistant commercial je suis navré pour la situation rencontrée, mais je vous rassure, nous allons trouver une solution. Je vais vous programmer un rappel avec un responsable pour prendre en charge votre paiement facture de 26€77 Vous serez contactée aujourd'hui \",\n",
       " 'Pour cela, cliquez ici pour programmer un rappel sur le créneau de votre choix &#128071;',\n",
       " \"Ne vous inquiétez pas j'ai bien fais le nécessaire concert le remboursement\\xa0de 16€ de Netflix, vous ne serez pas prélevé des 11.99€\\xa0le 16 août et vous reste un avoir de\\xa0\\xa04.01€\\xa0 qui sera déduit sur la facture du mois prochain.\\xa0 Quant à l'ancien forfait de 9.99€, ce n'est pas possible de vous aligner sur cette formule car une révision des tarifs et faites selon la clause d'indexation.\\xa0 Je vous rassure, votre offre reste avantageuse sur le marché et vous pouvez consommer plus de data surtout avec la digitalisation de tous les services dans nos jours. Vous pouvez même regarder vos programmes télévisés à l'aide de l'application B.TV (70 chaînes) quand vous n'êtes pas chez vous.\\xa0 Profitez en 😊\",\n",
       " 'Pour cela, cliquez ici pour programmer un rappel sur le créneau de votre choix &#128071;',\n",
       " \"Suite à notre entretien téléphonique, j'ai réessayer de vous joindre mais sans succès, vu que le repreneur de la ligne est injoignable jusqu'à 17h20, je vous invite à contacter la 1064 et reprogrammer un rappel par rapport à votre demande.\",\n",
       " \"Effectivement, les données mobiles ne sont pas décomptées de votre enveloppe Internet mobile pour les programmes en direct quand vous utilisez\\xa0l'option B.TV. Par contre, la navigation dans l'application, la radio et les VOD sont décomptées sur votre enveloppe data incluse dans votre forfait.\\xa0 Pour plus de détails je vous invite à consulter aussi ce lien : \\xa0 https://www.assistance.bouyguestelecom.fr/mobiles/services-mobiles-pratiques/tv-telephone-mobile-application-btv Tout est clair maintet ? \\xa0\",\n",
       " \"La vidéo à la demande, souvent abrégée en VOD ou VoD, est une technique de diffusion de contenus vidéo ( films et séries)\\xa0offerts ou vendus par les réseaux câblés, comme Internet, ou les réseaux non câblés, comme la téléphonie troisième génération. Sachez aussi que les mises à jour du téléphone, la navigation sur internet sont aussi décomptés\\xa0de votre enveloppe data. Je suis désolée, mais je n'ai pas la possibilité de vérifier\\xa0quelle application à consommé combien\\xa0de data, toutefois je vous assure que si vous regardez la TV pour les programmes en direct vous ne consommez pas de Go.\",\n",
       " \"Merci de votre retour. D'accord, dans ce cas, je programme un rappel avec vous pour vous mettre en place l’échéancier et faire le paiement. Sur quel créneau souhaitez vous que je vous rappelle svp ? Sur quel numéro ?\\xa0 Je reste à votre entière disposition. Bien à vous.\",\n",
       " \"Je reprends la conversation avec vous ! Nous pouvons programmer un rdv téléphonique le jour-J afin de voir ensemble nos offres qui sont disponibles actuellement. Qu'en pensez-vous ?\",\n",
       " 'J’ai même appeler le 31 juillet dernier et votre collègue «\\xa0Hatim\\xa0» m’a dit de vous re contacter le 3 août donc aujourd’hui pour reprogrammer la remise',\n",
       " 'Pour cela, cliquez ici pour programmer un rappel sur le créneau de votre choix &#128071;',\n",
       " \"Suite à notre conversation téléphonique, je vais programmer un rappel avec un conseiller sur le plateau pour effectuer le paiement par carte de bancaire\\xa0 d'un montant de 106,48€ \\xa0\",\n",
       " 'Je suis extrêmement navré pour la situation rencontrée M\\xa0Vichery , si j\\'avais la possibilité de vous programmer un rappel ou vous mettre en relation avec eux, je\\' l\\'aurai fait sans hésitation. Je vous prie alors de contacter (Gratuitement) le 1064 en vous exprimant au langage naturel \" Suivre ma commande Box \", et un collègue vous prendra en charge.',\n",
       " 'En fait g eu quelqu’un qui m’a dit qu’il faut prendre un rdv avec un technicien pour qu’il repasse voir ce qu’il se passe parce qu’apparemment il aurait su me faire le branchement ce matin pour la télé ce n’est pas normal alors pourriez-vous me programmer un rdv svp',\n",
       " \"Je vous remercie pour votre retour M VICHERY. Si j'avais la possibilité\\xa0de vous programmer un rdv je l'aurai fait sans hésitation, malheureusement je n'ai pas la main :(\",\n",
       " 'Sinon\\xa0vous pouvez programmer un rappel ici : \\xa0',\n",
       " 'Pour cela, cliquez ici pour programmer un rappel sur le créneau de votre choix &#128071;',\n",
       " \"Nous n'avons pas de visibilité à notre niveau d'un délai de résolution.\\xa0 Seul le service technique dédié sera en mesure de vous apporter d'avantage d'informations. 😊 Votre question nécessite un échange de vive voix. Pour cela, je vous invite à programmer un rappel, selon vos disponibilités, ici : https://www.bouyguestelecom.fr/mon-compte/rappelconseiller# \",\n",
       " 'J\\'aimerai bien vous donner plus d\\'informations, mais je fais partie du service digital, et non du service technique.\\xa0Je vous rassure que ce n\\'est pas de mauvaise volonté de ma part mais je n\\'ai ni la visibilité ni les outils nécessaire pour traiter de votre demande. En fait lorsque vous êtes\\xa0mis avec le serveur vocal, il faut exprimez le motif suivant \"problème technique box\". Ou vous pouvez aussi programmer un rappel selon vos disponibilités avec l\\'un de nos experts techniques ici: https://www.bouyguestelecom.fr/mon-compte/rappelconseiller# Je compte sur votre compréhension, et vous souhaite une agréable journée.',\n",
       " 'Je vous prie d\\'appeler la cellule technique depuis une autre ligne ou programmer un rappel par un technicien depuis votre espace client dans la rubrique \"Urgence et dépannage \" \\xa0',\n",
       " \"Je vois... Je comprends votre situation, bon voilà ce que je peux faire à mon niveau :Afin d'avoir un expert en ligne je vous conseille de programmer un rappel selon vos disponibilités depuis le lien suivant \\xa0https://www.bouyguestelecom.fr/mon-compte/rappelconseiller#\",\n",
       " 'Je ne peux pas programmer de rappel depuis la messagerie.',\n",
       " 'Je vais programmer un rappel de notre part afin de traiter votre demande en ligne. Sur quel numéro peut-on vous joindre? \\xa0',\n",
       " 'Je vous remercie. Je viens de programmer le rappel. Vous serez recontacté dans les plus brefs délais.\\xa0',\n",
       " 'Bonjour, nous avons programmer un rdv pour l’activation d’une ligne ADSL pour ce jeudi 6 août pouvez-vous me confirme le rdv ?',\n",
       " \"De mon côté tout ce que je peux voir c'est que suite à un incident technique, le technicien n'a pas pu faire l'installation. Pour cela, le département technique vous rappellerai pour reprogrammer un autre RDV. \",\n",
       " 'Pour cela, je vous invite à programmer un rappel, selon vos disponibilités, ici : https://www.bouyguestelecom.fr/mon-compte/rappelconseiller# Je vous remercie de votre compréhension et vous souhaite une très bonne soirée',\n",
       " \"Je le ferais avec plaisir si c'était possible, mais seul un technicien peut l'annuler😔. N'hésitez\\xa0pas à programmer le rappel à un moment ou vous serez disponible.\",\n",
       " 'Dans ce cas, je vous invite à programmer directement un rappel, selon vos disponibilités, ici : https://www.bouyguestelecom.fr/mon-compte/rappelconseiller#',\n",
       " 'Pour cela, cliquez ici pour programmer un rappel sur le créneau de votre choix &#128071;',\n",
       " \"D'accord , donc ca nécessite\\xa0une intervention d'un conseiller du service technique .Pour cela, je vous invite à programmer un rappel, selon vos disponibilités, ici : https://www.bouyguestelecom.fr/mon-compte/rappelconseiller#\",\n",
       " \"Merci d'avoir patienté Mme GOAPPER,\\xa0 Je suis navrée de lire que vous rencontrez un souci avec le service Netflix, Je \\xa0vous propose dans un premier temps de réaliser ce rapide diagnostic : https://www.assistance.bouyguestelecom.fr/internet-box/depanner-connexion-internet/depannage-diagnostic-bbox-application-mobile Ce diagnostic, est équivalent au diagnostic de nos experts techniques, je vous conseille de choisir le bon parcours svp, et d'identifier avec les données des compte concerné afin que celui-ci être efficace pour la résolution de votre souci. Si le cas persiste je vous rassure que notre cellule technique est à 100% disponible pour vous trouve la solution, et vous pouvez programmer un rappel avec eux selon vos disponibilités : https://www.bouyguestelecom.fr/mon-compte/rappelconseiller# Sachez bien que je reste disponible pour toute demande supplémentaire. Dans l'attente de vous lire, je vous souhaite une excellente journée 🤗.\",\n",
       " 'Votre question nécessite un échange de vive voix.Pour cela, je vous invite à programmer un rappel, selon vos disponibilités, ici : https://www.bouyguestelecom.fr/mon-compte/rappelconseiller#',\n",
       " 'Apparemment impossible de programmer un rappel... ==> Faites-vous rappeler* Le service est momentanément indisponible. Veuillez réessayer ultérieurement. Du coup vous avez un accès ccès Admin pour laisser un message de ma part ? Merci',\n",
       " \"Je vous remercie d'avoir patienté ; En fait, votre demande nécessite un traitement spécifique qui ne peut se faire à notre niveau au service commercial. Pour cela, je vous invite à accéder au lien suivant afin de programmer un rappel avec notre support technique, selon vos disponibilités afin de résoudre cette situation au plutôt possible : https://www.bouyguestelecom.fr/mon-compte/rappelconseiller# Aussi, je vous prie d'excuser mon incapacité à traiter votre demande et je compte sur votre compréhension sur le fait qu'elle ne rentre pas dans mon champ d'intervention.\",\n",
       " 'Pour cela, cliquez ici pour programmer un rappel sur le créneau de votre choix &#128071;',\n",
       " 'Je vais programmer un rappel de notre part afin de traiter votre demande en ligne. Vous serez recontacté dans les plus brefs délais. \\xa0',\n",
       " 'Je vous prie juste de patienter quelques instants et de réessayer, si vous préfère être rappelé automatiquement, je vous invite à\\xa0programmer un rappel, selon vos disponibilités, ici : https://www.bouyguestelecom.fr/mon-compte/rappelconseiller#',\n",
       " \"Merci pour tout ces informations M. SCHARTIER. Et je comprends parfaitement votre mécontentement\\xa0et c'est légitime\\xa0vu la situation que vous me décrivez, alors, je vous annonce que je vais remonter votre cas à nouveau auprès de mes supérieurs\\xa0afin de vérifier\\xa0\\xa0votre dossier à nouveau pour trouver\\xa0une solution adéquate. Ainsi je vous informe que je vais programmer un rappel pour le 10/08, afin de vous renseigner le suivi de votre dossier. Je vous remercie pour votre patience, votre confiance et vous souhaite une bonne journée.\",\n",
       " 'Bonjour il y a environ un mois maintet que j’ai commandé une clé usb à mettre sur ma box car elle ne m’a été livrée avec tout l’équipement de la bbox !!! Pour cette raison je ne peux enregistrer aucun programme sur la tv ! J’aimerais savoir quand je serais livrée ?',\n",
       " 'Je vous renseigne avec plaisir . Avez-vous pu avoir le service technique pour programmer ce rendez-vous? Sinon avez-vous essayé de contacter le 1064 ?',\n",
       " \"Si j'avais la possibilité de vous programmer le RDV, je l'aurais, mais vu que\\xa0c'est possible juste par le service technique, je vous invite à les recontacter SVP .\",\n",
       " 'Je vais programmer un rappel de notre part afin de traiter votre demande en ligne. Vous serez recontacté dans les plus brefs délais sur\\xa00616560528. \\xa0',\n",
       " \"Vous trouverez le chemin à suivre pour l'enregistrement d'un programme via le lien suivant:\",\n",
       " 'https://www.assistance.bouyguestelecom.fr/tv-bbox/programmes-tv-bbox/utiliser-enregistrement-controle-direct-bbox-miami#enregistrer',\n",
       " 'Navré pour cet incident Mlle AMGHAR,\\xa0je vous invite à prendre un nouveau rendez-vous qui est nécessaire pour l\\'installation de votre Bbox fibre. Vous pouvez le programmer depuis votre Espace Client, Rubrique \"Suivi de Commande\" / \"Rendez-vous\" sur http://bit.ly/activBbox',\n",
       " \"Merci pour votre retour Mme SORIA GUERRERO, j'espère que la situation n'est pas alarmante, cependant je vais programmer un rappel avec un responsable\\xa0 qui prendra contacte avec vous dans les 48 heures. Cordialement \\xa0\",\n",
       " \"Je suis navrée de lire que le technicien n'est pas venu et je vous présente mes sincères excuses pour ce désagrément Je vois que Le technicien était censé de venir chez vous pour un souci technique que vous rencontrez sur votre ligne box pour avoir des informations sur la raison de son absence je vous prie de programmer un rappel via ce lien : https://www.bouyguestelecom.fr/mon-compte/rappelconseiller# pour qu'un technicien vous rappelle et vérifier le dossier Si tout est clair pour vous ,je vous remercie de nous avoir fait part de votre demande et je vous souhaite une excellente journée\",\n",
       " 'Pour la box, cette demande nécessite un échange à vives voix, je programme un rappel avec vous si vous n’êtes présentement pas disponible.',\n",
       " 'Je suis encore une fois désolée pour cette situation.\\xa0 Je vous conseille de programmer un rappel avec un de nos experts depuis le lien suivant : \\xa0https://www.bouyguestelecom.fr/mon-compte/rappelconseiller#',\n",
       " \"Je vois\\xa0que l’installation\\xa0de la fibre a été terminé par erreur .les techniciens on vous a demandé de réaliser des traveaux . Avez-vous effectué les travaux\\xa0nécessaire\\xa0pour programmer un rdv ? Concert l'adsl ,les services\\xa0fonctionnent chez vous ?\\xa0 \\xa0\",\n",
       " \"Bonjour Mme\\xa0AUFFRAY,\\xa0 Navrée de lire que le souci n'est pas encore résolu. \\xa0Avez-vous déjà fixer un rendez-vous ? Si ce n'est pas le cas, je\\xa0vous invite à programmer un rappel avec le service technique, selon vos disponibilités, ici : https://www.bouyguestelecom.fr/mon-compte/rappelconseiller# \",\n",
       " 'Bonjour Merci pour votre message mais le service «\\xa0programmer un rappel\\xa0» ne fonctionne pas depuis bien longtemps sur l’appli tél ...',\n",
       " \"J'entends bien votre mécontentement\\xa0M DO NASCIMENTO ESTEVES, c'est légitime de votre part vu le temps\\xa0qu'a pris le raccordement chez vous, mais le service suivi d'activation qui pourra vous renseigner par rapport à l'intervention du technicien n'est pas joignable via ce canal digital et ce n'est pas possible de vous programmer un rappel, c’est\\xa0pour cela que nous vous invitons à les contacter au 1064 gratuitement depuis votre mobile Bouygues\\xa0et avoir plus de renseignement \\xa0 Comptant sur votre compréhension\\xa0en vous remerciant\\xa0d’avance\\xa0de votre collaboration M DO NASCIMENTO ESTEVES \\xa0\",\n",
       " \"Bonjour M DO NASCIMENTO ESTEVES Comme\\xa0convenu par téléphone, effectivement le RDV a été annulé suite à un problème d'adresse. \\xa0 Pour cela, je vous\\xa0invite à patienter car vous serez contacté dans les meilleurs\\xa0délais pour mettre le point sur l'adresse et programmer un autre RDV Je compte sur votre compréhension et patience cher client, et désolée encore pour cela Bonne soirée à vous\",\n",
       " \"Je vous accompagne avec plaisir par rapport au paiement. Je vois qu'une représentation de facture est programme pour demain le 04/08/2020, actuellement l'état est en attente de paiement et passera automatiquement demain. J'espère que j'étais à la hauteur de vos attentes. Si tout est clair pour vous, je vous souhaite une agréable journée 🙂. \",\n",
       " \"Je vous conseille de profiter de notre diagnostic interactif, via l’application Diag Bbox. Si, après avoir suivi les manipulations y expliquées, le souci persiste toujours, vous aurez la possibilité de programmer un rappel de la part d'un de nos techniciens qui pourra intervenir dans la foulée. Je vous invite vivement à faire le diagnostic par ici: https://www.assistance.bouyguestelecom.fr/diagnostic-bbox\",\n",
       " \"Bonjour. Le pictogramme téléphone n'arrête pas de clignoter sur la box. Même après réinitialisation. Pourquoi et que dois je faire ?\",\n",
       " \"Bonjour. Le pictogramme téléphone n'arrête pas de clignoter sur la box. Même après un reboot. Que dois-je faire ?\",\n",
       " 'Je vous invite à programmer un rappel, selon vos disponibilités, ici : https://www.bouyguestelecom.fr/mon-compte/rappelconseiller#',\n",
       " 'Dans ce cas, un échange de vive voix avec notre service technique est nécessaire. Pour cela, je vous invite à programmer un rappel, selon vos disponibilités, ici : https://www.bouyguestelecom.fr/mon-compte/rappelconseiller# Important : soyez à proximité de vos équipements lorsque nous allons vous recontacter.',\n",
       " \"Je vous remercie pour la confirmation Mme NONNENMACHER .Pour programmer la suspension, il ne sera pas possible de valider la date du 11/08 mais uniquement jusqu'au 9.Je vous propose\\xa0 de nous relancer un jours voir 2 jours avant pour valider la suspension le 11 pour vous .Cela est possible pour vous ? \\xa0\",\n",
       " \"Bonjour, Je n'ai pas reçu la carte SD de 128 GB pour enregistrer mes programmes favoris ???? De plus comment opérer pour obtenir le remboursement de mes frais de clôture de ligne de mon ancien opérateur ???\",\n",
       " \"Je vous remercie d'avoir patienté 🙂, je vous renseigne avec plaisir. J'aurais bien aimé répondre\\xa0favorablement à votre demande, mais si vous résiliez votre ligne actuellement vous serez facturé par des frais de résiliation, puisque vous êtes encore engagé avec nous.\\xa0 Par contre \\xa0je tiens à vous informer que vous pouvez déménager votre ligne Box, soit : - Vous pouvez vous-même programmer une demande de déménagement sur le lien suivant depuis votre espace client\\xa0: \\xa0\\xa0 https://www.bouyguestelecom.fr/mon-compte/demenagement-box/610009115140 - Soit en appelant notre service déménagement au 1064.\\xa0 Je reste à votre disposition. \\xa0\",\n",
       " \"Merci d'avoir patienté M LIAIGRE,\\xa0 Je suis navrée pour de lire que vous rencontrez un souci avec votre internet surtout que vous\\xa0êtes en télétravail 😓. Je \\xa0vous prie de réaliser dans un premier temps ce rapide diagnostic : https://www.assistance.bouyguestelecom.fr/internet-box/depanner-connexion-internet/depannage-diagnostic-bbox-application-mobile Ce diagnostic, est équivalent au diagnostic de nos experts techniques, je vous conseille de choisir le bon parcours svp, et d'identifier avec les données des compte concerné afin que celui-ci être efficace pour la résolution de votre souci. Si le cas persiste je vous rassure que notre cellule technique est à 100% disponible pour vous trouve la solution, et vous pouvez programmer un rappel avec eux selon vos disponibilités : https://www.bouyguestelecom.fr/mon-compte/rappelconseiller# Sachez bien que je reste disponible pour toute demande supplémentaire. Dans l'attente de vous lire, je vous souhaite une excellente fin de journée 🤗.\",\n",
       " 'Cryptogramme compris',\n",
       " 'Afin de résoudre cette anomalie ,je vous propose de réaliser un diagnostic via le lien ci-dessous , ça va vous aider pour effectuer plusieurs manipulations en toute autonomie , à la fin de diagnostic soit que vous arrivez à la résolution de votre problématique , ou bien de demander une intervention sur la ligne sinon , vous programmez un rappel avec un expert technique . https://www.assistance.bouyguestelecom.fr/internet-box/depanner-connexion-internet/depannage-diagnostic-bbox-application-mobile \\xa0',\n",
       " 'Votre question nécessite un échange de vive voix.Pour cela, je vous invite à programmer un rappel, selon vos disponibilités, ici : https://www.bouyguestelecom.fr/mon-compte/rappelconseiller# Important : soyez à proximité de vos équipements lorsque nous allons vous recontacter.',\n",
       " \"Je n'ai pas la possibilité de programmer un rappel à partir de 19h mais dans ce cas, faites nous signe sur cette messagerie dès que vous serez disponible et nous vous rappellerons😉. Vous pouvez également accéder au changement de votre directement sur votre espace client.\",\n",
       " \"Pourrait-on me rappeler svp pour me reprogrammer un rendez-vous technique depuis lundi on est censer me rappeler et toujours rien . On m'a annulé le rendez vous de ce soir sans aucun autre rendez-vous programmé\",\n",
       " 'Pour cela, cliquez ici pour programmer un rappel sur le créneau de votre choix &#128071;',\n",
       " 'Bonjour Je souhaites programmer une rdv pour l’installation d’un box',\n",
       " 'Bonjour Mme CHICH , je prend la suite de cette conversation , vous avez programmer un rappel avec le service technique ? \\xa0',\n",
       " 'Encore\\xa0une fois je vous présente mes sincères excuses pour la gêne occasionnée, croyez-moi je comprends parfaitement à quel point c\\'est gêt\\xa0de rencontrer des soucis au niveau de votre connexion box.\\xa0 \\xa0 En revanche, soyez rassuré svp, car on a un service technique qui peut vous aider à régler ce souci de réseau d\\'une manière définitive, je vous invite svp d\\'essayer de le joindre au 1064, c\\'est un numéro gratuit, en disant par voix normale \"J\\'ai un problème de box\" et vous serez orientée automatiquement vers l\\'assistance technique.\\xa0 Ou bien, je vous invite tout simplement à programmer un rappel depuis le lien suivant pour que l\\'un de mes collègues de service technique puisse prendre contact avec vous\\xa0:\\xa0 https://www.bouyguestelecom.fr/mon-compte/rappelconseiller# Je reste à votre disposition. \\xa0',\n",
       " 'Je vous comprends étant une cliente moi même dans ma vie quotidienne, je vous rassure vous pouvez régulariser le montant depuis votre espace client par carte bancaire Si vous rencontrez un blocage, vous pouvez nous appeler directement sur le 1064 pour effectuer le paiement en ligne ou de revenir vers nous sur la conversation\\xa0pour programmer un appel pour vous \\xa0',\n",
       " \"Pour aujourd'hui oui, vous êtes la seule à avoir remonté ce bug.\\xa0 Si le diagnostic ne fonctionne toujours pas, je vous conseille de programmer directement un rappel avec un expert depuis le lien suivant :\\xa0 https://www.bouyguestelecom.fr/mon-compte/rappelconseiller#\",\n",
       " \"Je regrette d’entendre vos difficultés et comprends combien c’est important pour vous de retrouver vos services, c’est pour ça que j’ai une solution rapide à vous proposer. Je vous conseille de profiter de notre diagnostic interactif, via l’application Diag Bbox. Si, après avoir suivi les manipulations y expliquées, le souci persiste toujours, vous aurez la possibilité de programmer un rappel de la part d'un de nos techniciens qui pourra intervenir dans la foulée. Je vous invite vivement à faire le diagnostic par ici: https://www.assistance.bouyguestelecom.fr/diagnostic-bbox\",\n",
       " \"J'ai reçu un SMS pour programmer un nouveau rendez-vous, mais il y a un bug sur le lien, j'ai essayé depuis mon smartphone et mon ordinateur.\",\n",
       " \"J'ai redémarré l'ordinateur ce matin, ça ne vient pas de l'ordinateur de toute façon. Il n'est pas possible pour vous de me programmer un rendez-vous en ligne?\",\n",
       " 'Je vois que vous avez reçu ce message hier : Un nouveau rendez-vous est nécessaire pour l\\'installation de votre Bbox fibre. Vous pouvez le programmer depuis votre Espace Client, Rubrique \"Suivi de Commande\" / \"Rendez-vous\" sur http://bit.ly/activBbox\\xa0 Le jour du rendez-vous, le technicien doit pouvoir accéder au local technique de votre immeuble, qui se trouve à la cave ou au parking. Pensez bien à récupérer clé ou digicode auprès de votre syndic ou gardien. ',\n",
       " 'Pour cela, cliquez ici pour programmer un rappel sur le créneau de votre choix &#128071;',\n",
       " \"Le BOUQUET CINÉ ESSENTIEL INCLUS Accédez à 4 grandes chaines 100% cinéma à toute heure du jour et de la nuit. Profitez de tous les genres de cinéma du blockbuster au cinéma d'auteur : comédie, action, horreur, fantastique, thriller, western, drame, romance... Profitez de films en replay(1) pour regarder vos films quand vous voulez. Regardez vos programmes en multi-écrans où vous voulez et quand vous voulez grâce à l'application B.tv (Android et/ou IOS). \",\n",
       " 'Nous n\\'avons\\xa0 malheureusement pas une possibilité de vous programmer un rappel avec le service de suivi \\xa0d\\'activation qui gère votre ligne pour le moment. Je vous invite donc à le contacter directement sur le 1064 en mentiont obligatoirement \"Suivi d\\'activation\" verbalement\\xa0pour que vous soyez mis en relation avec un conseiller.\\xa0 Bien à vous.',\n",
       " 'Dans ce cas , je vous \\xa0invite à programmer un rappel, selon vos disponibilités, ici : https://www.bouyguestelecom.fr/mon-compte/rappelconseiller#\\xa0 Bonne soirée M POUGETOUX .',\n",
       " \"Bonjour Mme ZHANG :)\\xa0 L'installation des équipements ne nécessite pas l'intervention du technicien, vous pouvez les brancher\\xa0vous-même en toute autonomie, c'est facile ;)\\xa0 Il suffit de suivre ce guide : \\xa0https://bytl.fr/installBbox Si vous rencontrez des difficultés, \\xa0je vous invite à programmer un rappel avec le service technique, selon vos disponibilités, ici : https://www.bouyguestelecom.fr/mon-compte/rappelconseiller# J'espère que tout est clair pour vous. Passez une agréable journée\\xa0Mme ZHANG et surtout prenez soin de vous et de vos proches 😊\",\n",
       " \"J'ai tenté de vous appeler sur le mobile afin de vous mettre en relation avec le service technique afin de vous assister pour brancher votre box mais je n'ai pas pu vous joindre Pour cela je vous de nous faire signe sur le même canal une fois vous êtes chez vous et disponible pour vous mettre en relation avec un technicien ou de programmer un rappel avec le service technique, selon vos disponibilités, ici : https://www.bouyguestelecom.fr/mon-compte/rappelconseiller# pour qu'un technicien vous rappelle Si tout est clair pour vous ,je vous remercie de nous avoir fait part de votre demande et je vous souhaite une excellente journée 😄 \",\n",
       " 'Je suis navrée de lire que vous rencontrez des difficultés au niveau de votre ligne bbox.\\xa0 Je vous conseille de programmer un rappel avec un expert depuis le lien suivant :\\xa0 https://www.bouyguestelecom.fr/mon-compte/rappelconseiller#',\n",
       " \"Trop débile, ce bot, j'arrête. Hey, lez programmeurs, vous avez pas moyens de faire qqch de plus intelligents ?????\",\n",
       " 'Je vous prie juste de réessayer\\xa0et vous exprimez le motif du souci au langage naturel \"J\\'ai un souci technique\",\\xa0 \\xa0après vous serez automatiquement orientée vers l\\'Assistance technique box afin d’être en relation avec un technicien qui pourra vous aider et vérifier avec vous d\\'ou vient le dysfonctionnement. Comme vous pouvez programmer un rappel sur :\\xa0https://www.bouyguestelecom.fr/mon-compte/rappelconseiller# Si tout est clair pour vous je vous remercie pour votre aimable accueil et je vous souhaite une excellente journée.',\n",
       " \"J'ai tente de programmer un rappel ! service indisponible ! La galère se poursuit.\",\n",
       " 'Je vais programmer un rappel de notre part afin de traiter votre demande en ligne. Vous serez recontacté dans les meilleurs délais sur \\xa00659563797.\\xa0',\n",
       " 'Pour cela, cliquez ici pour programmer un rappel sur le créneau de votre choix &#128071;',\n",
       " 'Afin de pouvoir enregistrer votre déménagement pour le 01/09/2020, je vous invite à contacter le service déménagement afin de vous assurer la continuité de vos services dans votre logement actuel et de programmer le transfert de la bbox à la nouvelle adresse.',\n",
       " \"Je comprends parfaitement votre insatisfaction et c'est légitime\\xa0vu la situation\\xa0que vous me décrivez, alors, voyons maintet ce qu'on peut faire pour vous aider. Suite à notre échange\\xa0téléphonique, je vous ai confirmé que le technicien est absent pour aujourd'hui, vous serez recontacter par le service dédié le plus tôt\\xa0possible afin de programmer un nouveau rendez-vous. Je compte sur votre compréhension\\xa0et vous souhaite une bonne journée.\",\n",
       " 'Bonjour . Aores un premier rdv décommandé par la ste sogestrel pour dépanner la box le 31.07 il a été convenu de programmer ce dépannage le 4 août 2020 de 09h à 11h00 . J ai attendu le technicien de cette société . Pas de contact pas de venue a mon domicile et la box toujours dans le même état ( voyant rouge tph allumé) aucun message ou mail . Aucune possibilité de rappeler votre sous traitant . Pourriez vous intervenir afin que cette panne soit effectivement réparée cordialement',\n",
       " 'Votre question nécessite un échange de vive voix.Pour cela, je vous invite à programmer un rappel, selon vos disponibilités, ici : https://www.bouyguestelecom.fr/mon-compte/rappelconseiller# Important : soyez à proximité de vos équipements lorsque nous allons vous recontacter.',\n",
       " \"Je comprends votre agacement. 😔 Votre question nécessite un échange de vive voix\\xa0.Pour cela, je vous invite à programmer un rappel, selon vos disponibilités, ici :https://www.bouyguestelecom.fr/mon-compte/rappelconseiller# (s'il vous plait, \\xa0soyez à proximité de vos équipements lorsque nous allons vous recontacter)\",\n",
       " \"Vous pourrez programmer un rappel en entrant sur le lien que je vous ai envoyé madame \\xa0Jourdain!\\xa0 Je reste à votre disposition pour toute autre information. Si tout est clair pour vous, il ne me reste qu'à vous souhaiter une bonne fin de journée 😊\",\n",
       " 'Afin de résoudre cette anomalie ,je vous propose de réaliser un diagnostic via le lien ci-dessous , ça va vous aider pour effectuer plusieurs manipulations en toute autonomie , à la fin de diagnostic soit que vous arrivez à la résolution de votre problématique , ou bien de demander une intervention sur la ligne sinon , vous programmez un rappel avec un expert technique . https://www.assistance.bouyguestelecom.fr/internet-box/depanner-connexion-internet/depannage-diagnostic-bbox-application-mobile',\n",
       " \"Bonjour, j'ai demandé début juillet à passer sur la fibre. J'ai reçu les équipements. Mais un conseiller devait me rappeler pour caler la date d'installation. Ce qui n'a pas été fait. J'aimerais programmer l'intervention dernière semaine d'août. Pouvez vous m'aider svp ?\",\n",
       " 'Ce que je vous propose est de nous appeler au 1064 pour relancer le changement de votre Bbox vers la Fibre et programmer un rendez-vous.',\n",
       " 'je comprends votre souhait de reprogrammer le rendez-vous au plus vite, M BALLADE\\xa0',\n",
       " 'Ou de programmer un rappel selon vos disponibilités via ce lien : https://www.bouyguestelecom.fr/mon-compte/rappelconseiller#',\n",
       " 'Je viens de vous l ecrire : reprogrammez vos bots intelligement',\n",
       " 'Votre demande nécessite un rappel de notre part. Je vais le programmer de suite. Vous serez recontacté dans les plus brefs délais. \\xa0',\n",
       " \"C'est noté. Je viens de programmer le rappel de notre part sur \\xa006.35.42.53.78. Vous serez recontacté dans les plus brefs délais.\\xa0\",\n",
       " 'Sachez que je peux également vous aider par ce canal. Dans un premier temps je vous remercie de nous avoir rejoint pour la box . Ensuite, je vois que votre RDV est programmé pour le 19/08.\\xa0 Quand est-ce que vous souhaitez le reprogrammer? \\xa0',\n",
       " \"Sur votre dossier, je n'ai pas de visibilité\\xa0sur le RDV\\xa0programmé le 14/08. De plus, pour ce jour, il n'est pas possible de programmer un RDV car aucun créneau horaire n'est plus disponible. \\xa0\",\n",
       " \"Je regrette d’entendre vos difficultés et comprends combien c’est important pour vous de retrouver vos services, c’est pour ça que j’ai une solution rapide à vous proposer. Je vous conseille de profiter de notre diagnostic interactif, via l’application Diag Bbox. Si, après avoir suivi les manipulations y expliquées, le souci persiste toujours, vous aurez la possibilité de programmer un rappel de la part d'un de nos techniciens qui pourra intervenir dans la foulée. Je vous invite vivement à faire le diagnostic par ici: https://www.assistance.bouyguestelecom.fr/diagnostic-bbox\",\n",
       " \"Étant donné que sur la dernière facture avez payé la consommation du \\xa027/07 au 26/08, si vous validez la résiliation ce mois-ci vous ne serez plus facturés. Souhaitez-vous que je programme la résiliation\\xa0de l'option pour vous ?\",\n",
       " 'En vérifiant votre dossier, je vois que le rendez-vous était programmé pour le 04/08/20 entre 11h00-15h00 mais après vérification, je vois qu\\'une notification vous a été envoyée le 03/08 pour une reprise de rendez-vous et le message est le suivant : \"Un nouveau rendez-vous est nécessaire pour l\\'installation de votre Bbox fibre, nous en sommes désolés. Nous vous contacterons d\\'ici 48h maximum pour en programmer un ensemble\".',\n",
       " 'Je vous renseigne avec plaisir Mme KANESALINGAM, vous pouvez régler votre facture Bouygues depuis votre espace client et\\xa0 également la régler en ligne en contactant le 614 ou bien\\xa0avec un conseiller. Je peux vous programmer un rappel avec un conseiller pour prendre en charge le paiement par carte avec vous ou bien joindre directement le 1064.\\xa0 Je reste à votre disposition 🙂',\n",
       " \"Le dépassement n'a rien avoir avec l'opérateur Mme , puisque vous effectuez des achats sur google play -420k et 880k fichas (art) .\\xa0je vous invite à programmer le seille pour éviter les dépassement\\xa0imprévue s\",\n",
       " \"Il est d'habittude ce type de inconvénient qui vont en\\xa0Grèce\\xa0, car ils\\xa0sont connectés directement avec la borne de l'Albanie. Cette facturation est de la part du partenaire commercial de Bouygues en Albanie M MARCOTTE. Pour ce qui est du contact avec un\\xa0responsable,\\xa0 ce dernier n'aura pas accès à faire autre M MARCOTTE. Si vous le souhaitez le peut programmer ce contact M MARCOTTE\",\n",
       " 'merci de programmer ce contact',\n",
       " \"Je vous prie de me communiquer votre numéro de contact que je puisse vous programmer un rappel avec un responsable en vous informant que vous pouvez prendre une capture d'écran de l'échange que vous avez eu sur cette conversation car je n'ai pas la possibilité vous envoyer une copie.\",\n",
       " \"Je suis vraiment navrée de la situation rencontrée et je peux comprendre à quel point la situation vous agace ,sachez bien que si j'avais la possibilité d'intervenir j'allais pas hésiter. Vous pouvez adresse une réclamation par courrier au service clients à l'adresse suivante: Service Consommateurs, Bouygues Telecom, TSA 59013, 60643 CHANTILLY CEDEX Je vous invite aussi à contacter le service suivi d'activation au 1064 afin de vérifier concert l'état de votre ligne ainsi pour programmer un nouveau rendez-vous. Je compte sur votre compréhension\",\n",
       " \"Il s'agit du Bouquet TV Bbox Divertissement pour : - Accédez à plus de 30 chaines et services multithématiques : cinéma, sérié, musique, mangas, sport, documentaires, nature, culture, émissions culinaires, charme, etc... - Profitez de centaines de programmes en replay* à regarder quand vous voulez - Regardez vos programmes en multi-écrans où vous voulez et quand vous voulez grâce à l'application B.Tv (Android et/ou IOS)\",\n",
       " \"A la fin si le problème persiste, il y a la possibilité de programmer d'être rappelé& par un conseiller expert du service technique.\",\n",
       " 'Votre question nécessite un échange de vive voix.Pour cela, je vous invite à programmer un rappel, selon vos disponibilités, ici : https://www.bouyguestelecom.fr/mon-compte/rappelconseiller# Important : soyez à proximité de vos équipements lorsque nous allons vous recontacter.',\n",
       " 'Nous ne pouvons pas programmer un rappel Mlle GARNIER via ce canal, merci de demander au repreneur de nous recontacter lui même au 1064.',\n",
       " \"Je suis navrée de la situation rencontrée et vous informe que votre demande nécessite un traitement spécifique qui ne peut se faire à notre niveau au service commercial. Pour cela, je vous invite à accéder au lien suivant afin de programmer un rappel avec notre support technique, selon vos disponibilités afin de résoudre cette situation au plutôt possible : https://www.bouyguestelecom.fr/mon-compte/rappelconseiller# Aussi, je vous prie d'excuser mon incapacité à traiter votre demande et je compte sur votre compréhension sur le fait qu'elle ne rentre pas dans mon champ d'intervention. Passez une belle journée 🙂.\",\n",
       " 'Je vous remercie de votre retour ; Je vous invite à changer le navigateur svp, afin de programmer le rappel avec notre support technique, si non vous pouvez aussi contacter le numéro 1064, et vous prononcez en langage naturel \"J\\'ai un problème de box\" et vous serez automatiquement orienté vers un technicien. Je vous remerciant d\\'avance :-)',\n",
       " 'Sinon vous pouvez programmer un rappel ici : \\xa0',\n",
       " 'Pour cela, cliquez ici pour programmer un rappel sur le créneau de votre choix &#128071;']"
      ]
     },
     "execution_count": 19,
     "metadata": {},
     "output_type": "execute_result"
    }
   ],
   "source": [
    "list(bbox_dialogues.CommentBody[['gramme' in str(text) for text in bbox_dialogues.CommentBody]])"
   ]
  }
 ],
 "metadata": {
  "kernelspec": {
   "display_name": "Python 3",
   "language": "python",
   "name": "python3"
  },
  "language_info": {
   "codemirror_mode": {
    "name": "ipython",
    "version": 3
   },
   "file_extension": ".py",
   "mimetype": "text/x-python",
   "name": "python",
   "nbconvert_exporter": "python",
   "pygments_lexer": "ipython3",
   "version": "3.7.7"
  }
 },
 "nbformat": 4,
 "nbformat_minor": 4
}
