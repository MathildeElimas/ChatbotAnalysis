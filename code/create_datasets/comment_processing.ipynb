{
 "cells": [
  {
   "cell_type": "code",
   "execution_count": 1,
   "metadata": {},
   "outputs": [],
   "source": [
    "import pandas as pd\n",
    "import re"
   ]
  },
  {
   "cell_type": "code",
   "execution_count": 2,
   "metadata": {},
   "outputs": [],
   "source": [
    "PATH = 'C:\\\\Users\\\\MathildeElimas\\\\Documents\\\\BYTEL\\\\Bot_Data\\\\'"
   ]
  },
  {
   "cell_type": "code",
   "execution_count": 3,
   "metadata": {},
   "outputs": [],
   "source": [
    "comment = pd.read_csv(PATH + 'bulkQuery_result_CaseComment.csv',sep = '\\t')"
   ]
  },
  {
   "cell_type": "code",
   "execution_count": 4,
   "metadata": {},
   "outputs": [
    {
     "data": {
      "text/html": [
       "<div>\n",
       "<style scoped>\n",
       "    .dataframe tbody tr th:only-of-type {\n",
       "        vertical-align: middle;\n",
       "    }\n",
       "\n",
       "    .dataframe tbody tr th {\n",
       "        vertical-align: top;\n",
       "    }\n",
       "\n",
       "    .dataframe thead th {\n",
       "        text-align: right;\n",
       "    }\n",
       "</style>\n",
       "<table border=\"1\" class=\"dataframe\">\n",
       "  <thead>\n",
       "    <tr style=\"text-align: right;\">\n",
       "      <th></th>\n",
       "      <th>CreatedBy.Profile.Name,\"CommentBody\",\"ParentId\";;;;;;</th>\n",
       "    </tr>\n",
       "  </thead>\n",
       "  <tbody>\n",
       "    <tr>\n",
       "      <th>0</th>\n",
       "      <td>Utilisateur Technique,\"Oui\",\"5001p00003imjqKAA...</td>\n",
       "    </tr>\n",
       "    <tr>\n",
       "      <th>1</th>\n",
       "      <td>Utilisateur Technique,\"Désolé, Je ne suis pas ...</td>\n",
       "    </tr>\n",
       "    <tr>\n",
       "      <th>2</th>\n",
       "      <td>Utilisateur Technique,\"Très bien, un de nos co...</td>\n",
       "    </tr>\n",
       "    <tr>\n",
       "      <th>3</th>\n",
       "      <td>Utilisateur Technique,\"Nous allons dans ce cas...</td>\n",
       "    </tr>\n",
       "    <tr>\n",
       "      <th>4</th>\n",
       "      <td>Utilisateur Technique,\"Il faudra vous connecte...</td>\n",
       "    </tr>\n",
       "  </tbody>\n",
       "</table>\n",
       "</div>"
      ],
      "text/plain": [
       "  CreatedBy.Profile.Name,\"CommentBody\",\"ParentId\";;;;;;\n",
       "0  Utilisateur Technique,\"Oui\",\"5001p00003imjqKAA...   \n",
       "1  Utilisateur Technique,\"Désolé, Je ne suis pas ...   \n",
       "2  Utilisateur Technique,\"Très bien, un de nos co...   \n",
       "3  Utilisateur Technique,\"Nous allons dans ce cas...   \n",
       "4  Utilisateur Technique,\"Il faudra vous connecte...   "
      ]
     },
     "execution_count": 4,
     "metadata": {},
     "output_type": "execute_result"
    }
   ],
   "source": [
    "comment.head()"
   ]
  },
  {
   "cell_type": "markdown",
   "metadata": {},
   "source": [
    "Séparation des variable"
   ]
  },
  {
   "cell_type": "code",
   "execution_count": 5,
   "metadata": {},
   "outputs": [],
   "source": [
    "comment = pd.DataFrame([ x.split(',\\\"') for x in list(comment['CreatedBy.Profile.Name,\\\"CommentBody\\\",\\\"ParentId\\\";;;;;;'])])"
   ]
  },
  {
   "cell_type": "markdown",
   "metadata": {},
   "source": [
    "Nettoyage et construction de la colonne ID"
   ]
  },
  {
   "cell_type": "code",
   "execution_count": 6,
   "metadata": {
    "scrolled": true
   },
   "outputs": [],
   "source": [
    "comment[2] = (comment[2].astype(str) + comment[3].astype(str)).str.replace('None','')\n",
    "del(comment[3])"
   ]
  },
  {
   "cell_type": "markdown",
   "metadata": {},
   "source": [
    "Suppression de la ponctuation et gestion des NA"
   ]
  },
  {
   "cell_type": "code",
   "execution_count": 7,
   "metadata": {},
   "outputs": [],
   "source": [
    "comment[0] = comment[0].str.replace('[^\\w\\s]','')\n",
    "comment[1] = comment[1].str.replace('[^\\w\\s]','')\n",
    "comment[2] = comment[2].str.replace('[^\\w\\s]','')"
   ]
  },
  {
   "cell_type": "code",
   "execution_count": 8,
   "metadata": {},
   "outputs": [],
   "source": [
    "comment = comment.replace('',None)\n",
    "comment = comment.dropna(0, 'all')"
   ]
  },
  {
   "cell_type": "markdown",
   "metadata": {},
   "source": [
    "Gestion des valeurs placées dans les mauvaises variables"
   ]
  },
  {
   "cell_type": "code",
   "execution_count": 9,
   "metadata": {},
   "outputs": [],
   "source": [
    "for _, row in comment.iterrows():\n",
    "    if (row[1]!=None):\n",
    "        if bool(re.match('^500[a-zA-Z0-9]*',row[1])):\n",
    "            row[1] = row[0]\n",
    "            row[0] = None\n",
    "    else :\n",
    "        if (row[0] != 'Utilisateur CDC Lightning') & (row[0] != 'Bytel Customer Community User'):\n",
    "            row[1] = row[0]\n",
    "            row[0] = None\n",
    "        "
   ]
  },
  {
   "cell_type": "markdown",
   "metadata": {},
   "source": [
    "Renommage des colonnes"
   ]
  },
  {
   "cell_type": "code",
   "execution_count": 10,
   "metadata": {},
   "outputs": [],
   "source": [
    "comment.rename(columns={0 :'CreatedBy.Profile.Name',\n",
    "                        1:'CommentBody',\n",
    "                        2 :'ParentId'},\n",
    "               inplace=True)"
   ]
  },
  {
   "cell_type": "code",
   "execution_count": 11,
   "metadata": {},
   "outputs": [
    {
     "data": {
      "text/html": [
       "<div>\n",
       "<style scoped>\n",
       "    .dataframe tbody tr th:only-of-type {\n",
       "        vertical-align: middle;\n",
       "    }\n",
       "\n",
       "    .dataframe tbody tr th {\n",
       "        vertical-align: top;\n",
       "    }\n",
       "\n",
       "    .dataframe thead th {\n",
       "        text-align: right;\n",
       "    }\n",
       "</style>\n",
       "<table border=\"1\" class=\"dataframe\">\n",
       "  <thead>\n",
       "    <tr style=\"text-align: right;\">\n",
       "      <th></th>\n",
       "      <th>CreatedBy.Profile.Name</th>\n",
       "      <th>CommentBody</th>\n",
       "      <th>ParentId</th>\n",
       "    </tr>\n",
       "  </thead>\n",
       "  <tbody>\n",
       "    <tr>\n",
       "      <th>0</th>\n",
       "      <td>Utilisateur Technique</td>\n",
       "      <td>Oui</td>\n",
       "      <td>5001p00003imjqKAAQ</td>\n",
       "    </tr>\n",
       "    <tr>\n",
       "      <th>1</th>\n",
       "      <td>Utilisateur Technique</td>\n",
       "      <td>Désolé Je ne suis pas certain davoir compris</td>\n",
       "      <td>5001p00003imjqKAAQ</td>\n",
       "    </tr>\n",
       "    <tr>\n",
       "      <th>2</th>\n",
       "      <td>Utilisateur Technique</td>\n",
       "      <td>Très bien un de nos conseillers vous répondra ...</td>\n",
       "      <td>5001p00003imjqKAAQ</td>\n",
       "    </tr>\n",
       "    <tr>\n",
       "      <th>3</th>\n",
       "      <td>Utilisateur Technique</td>\n",
       "      <td>Nous allons dans ce cas le faire ensemble</td>\n",
       "      <td>5001p00003imjqKAAQ</td>\n",
       "    </tr>\n",
       "    <tr>\n",
       "      <th>4</th>\n",
       "      <td>Utilisateur Technique</td>\n",
       "      <td>Il faudra vous connecter avec vos identifiants...</td>\n",
       "      <td>5001p00003imjqKAAQ</td>\n",
       "    </tr>\n",
       "  </tbody>\n",
       "</table>\n",
       "</div>"
      ],
      "text/plain": [
       "  CreatedBy.Profile.Name                                        CommentBody  \\\n",
       "0  Utilisateur Technique                                                Oui   \n",
       "1  Utilisateur Technique       Désolé Je ne suis pas certain davoir compris   \n",
       "2  Utilisateur Technique  Très bien un de nos conseillers vous répondra ...   \n",
       "3  Utilisateur Technique          Nous allons dans ce cas le faire ensemble   \n",
       "4  Utilisateur Technique  Il faudra vous connecter avec vos identifiants...   \n",
       "\n",
       "             ParentId  \n",
       "0  5001p00003imjqKAAQ  \n",
       "1  5001p00003imjqKAAQ  \n",
       "2  5001p00003imjqKAAQ  \n",
       "3  5001p00003imjqKAAQ  \n",
       "4  5001p00003imjqKAAQ  "
      ]
     },
     "execution_count": 11,
     "metadata": {},
     "output_type": "execute_result"
    }
   ],
   "source": [
    "comment.head()"
   ]
  },
  {
   "cell_type": "code",
   "execution_count": 12,
   "metadata": {},
   "outputs": [],
   "source": [
    "# comment.to_csv(PATH + 'bulkQuery_result_CaseComment_propre.csv')"
   ]
  }
 ],
 "metadata": {
  "kernelspec": {
   "display_name": "Python 3",
   "language": "python",
   "name": "python3"
  },
  "language_info": {
   "codemirror_mode": {
    "name": "ipython",
    "version": 3
   },
   "file_extension": ".py",
   "mimetype": "text/x-python",
   "name": "python",
   "nbconvert_exporter": "python",
   "pygments_lexer": "ipython3",
   "version": "3.7.7"
  }
 },
 "nbformat": 4,
 "nbformat_minor": 4
}
